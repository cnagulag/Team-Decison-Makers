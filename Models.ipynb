{
 "cells": [
  {
   "cell_type": "code",
   "execution_count": 1,
   "metadata": {},
   "outputs": [],
   "source": [
    "#the goal is to plot correlations and run the models to get some ideas\n",
    "#also try for monte carlo simulation\n",
    "#try for moran's I statistic\n",
    "#plot more vizs"
   ]
  },
  {
   "cell_type": "code",
   "execution_count": 21,
   "metadata": {},
   "outputs": [],
   "source": [
    "import pandas as pd;\n",
    "import seaborn as sns;\n",
    "import matplotlib.pyplot as plt;\n",
    "import numpy as np;\n",
    "import statsmodels.api as sm;\n",
    "from sklearn.cluster import KMeans"
   ]
  },
  {
   "cell_type": "code",
   "execution_count": 3,
   "metadata": {},
   "outputs": [],
   "source": [
    "data = pd.read_csv('MappedDataset.csv')"
   ]
  },
  {
   "cell_type": "code",
   "execution_count": 4,
   "metadata": {},
   "outputs": [
    {
     "data": {
      "text/plain": [
       "array(['Harris', 'Waller', 'Fort_Bend', 'Brazoria', 'Montgomery',\n",
       "       'Galveston', 'Austin', 'Chambers'], dtype=object)"
      ]
     },
     "execution_count": 4,
     "metadata": {},
     "output_type": "execute_result"
    }
   ],
   "source": [
    "data['COUNTY_NAME'].unique()"
   ]
  },
  {
   "cell_type": "code",
   "execution_count": 5,
   "metadata": {},
   "outputs": [
    {
     "data": {
      "image/png": "[encoded data removed]",
      "text/plain": [
       "<Figure size 432x288 with 1 Axes>"
      ]
     },
     "metadata": {
      "needs_background": "light"
     },
     "output_type": "display_data"
    }
   ],
   "source": [
    "plt.scatter(data['LONGITUDE_IB_CW'],data['LATITUDE_IB_CW'])\n",
    "plt.show()"
   ]
  },
  {
   "cell_type": "code",
   "execution_count": 6,
   "metadata": {},
   "outputs": [
    {
     "data": {
      "text/html": [
       "<div>\n",
       "<style scoped>\n",
       "    .dataframe tbody tr th:only-of-type {\n",
       "        vertical-align: middle;\n",
       "    }\n",
       "\n",
       "    .dataframe tbody tr th {\n",
       "        vertical-align: top;\n",
       "    }\n",
       "\n",
       "    .dataframe thead th {\n",
       "        text-align: right;\n",
       "    }\n",
       "</style>\n",
       "<table border=\"1\" class=\"dataframe\">\n",
       "  <thead>\n",
       "    <tr style=\"text-align: right;\">\n",
       "      <th></th>\n",
       "      <th>ROADWAY_NAME</th>\n",
       "      <th>LATITUDE_IB_CW</th>\n",
       "      <th>LATITUDE_OB_CCW</th>\n",
       "      <th>LONGITUDE_IB_CW</th>\n",
       "      <th>LONGITUDE_OB_CCW</th>\n",
       "      <th>COUNTY_NAME</th>\n",
       "      <th>TOTAL_MINUTES</th>\n",
       "      <th>ENTER_DATE</th>\n",
       "      <th>ENTER_TIME</th>\n",
       "      <th>CLEAR_DATE</th>\n",
       "      <th>CLEAR_TIME</th>\n",
       "      <th>elev_meters</th>\n",
       "      <th>Rain_Totals_mm</th>\n",
       "      <th>Rain_Dist_meters</th>\n",
       "      <th>Highway_Inc_Length_m</th>\n",
       "      <th>Rain_Dist_miles</th>\n",
       "      <th>Rain_Totals_meters</th>\n",
       "    </tr>\n",
       "  </thead>\n",
       "  <tbody>\n",
       "    <tr>\n",
       "      <th>0</th>\n",
       "      <td>BELTWAY 8-EAST</td>\n",
       "      <td>29.8085</td>\n",
       "      <td>29.8089</td>\n",
       "      <td>-95.1639</td>\n",
       "      <td>-95.1628</td>\n",
       "      <td>Harris</td>\n",
       "      <td>0</td>\n",
       "      <td>8/26/2017</td>\n",
       "      <td>3:56</td>\n",
       "      <td>8/26/2017</td>\n",
       "      <td>3:56</td>\n",
       "      <td>10.10</td>\n",
       "      <td>37.44</td>\n",
       "      <td>550.454556</td>\n",
       "      <td>115.211774</td>\n",
       "      <td>0.342037</td>\n",
       "      <td>0.03744</td>\n",
       "    </tr>\n",
       "    <tr>\n",
       "      <th>1</th>\n",
       "      <td>BELTWAY 8-EAST</td>\n",
       "      <td>29.6656</td>\n",
       "      <td>29.6656</td>\n",
       "      <td>-95.1558</td>\n",
       "      <td>-95.1556</td>\n",
       "      <td>Harris</td>\n",
       "      <td>357</td>\n",
       "      <td>8/26/2017</td>\n",
       "      <td>8:06</td>\n",
       "      <td>8/26/2017</td>\n",
       "      <td>14:03</td>\n",
       "      <td>8.88</td>\n",
       "      <td>39.75</td>\n",
       "      <td>2892.704125</td>\n",
       "      <td>19.361625</td>\n",
       "      <td>1.797443</td>\n",
       "      <td>0.03975</td>\n",
       "    </tr>\n",
       "    <tr>\n",
       "      <th>2</th>\n",
       "      <td>BELTWAY 8-EAST</td>\n",
       "      <td>29.8830</td>\n",
       "      <td>29.8830</td>\n",
       "      <td>-95.1984</td>\n",
       "      <td>-95.1984</td>\n",
       "      <td>Harris</td>\n",
       "      <td>4745</td>\n",
       "      <td>8/27/2017</td>\n",
       "      <td>1:50</td>\n",
       "      <td>8/30/2017</td>\n",
       "      <td>8:55</td>\n",
       "      <td>14.32</td>\n",
       "      <td>8.25</td>\n",
       "      <td>3149.513177</td>\n",
       "      <td>0.000000</td>\n",
       "      <td>1.957017</td>\n",
       "      <td>0.00825</td>\n",
       "    </tr>\n",
       "    <tr>\n",
       "      <th>3</th>\n",
       "      <td>BELTWAY 8-EAST</td>\n",
       "      <td>29.8830</td>\n",
       "      <td>29.8830</td>\n",
       "      <td>-95.1984</td>\n",
       "      <td>-95.1984</td>\n",
       "      <td>Harris</td>\n",
       "      <td>4351</td>\n",
       "      <td>8/27/2017</td>\n",
       "      <td>8:49</td>\n",
       "      <td>8/30/2017</td>\n",
       "      <td>9:20</td>\n",
       "      <td>14.32</td>\n",
       "      <td>8.25</td>\n",
       "      <td>3149.513177</td>\n",
       "      <td>0.000000</td>\n",
       "      <td>1.957017</td>\n",
       "      <td>0.00825</td>\n",
       "    </tr>\n",
       "    <tr>\n",
       "      <th>4</th>\n",
       "      <td>BELTWAY 8-EAST</td>\n",
       "      <td>29.6498</td>\n",
       "      <td>29.6498</td>\n",
       "      <td>-95.1562</td>\n",
       "      <td>-95.1561</td>\n",
       "      <td>Harris</td>\n",
       "      <td>4138</td>\n",
       "      <td>8/27/2017</td>\n",
       "      <td>11:55</td>\n",
       "      <td>8/30/2017</td>\n",
       "      <td>8:53</td>\n",
       "      <td>9.61</td>\n",
       "      <td>39.75</td>\n",
       "      <td>1241.143782</td>\n",
       "      <td>9.682325</td>\n",
       "      <td>0.771211</td>\n",
       "      <td>0.03975</td>\n",
       "    </tr>\n",
       "  </tbody>\n",
       "</table>\n",
       "</div>"
      ],
      "text/plain": [
       "     ROADWAY_NAME  LATITUDE_IB_CW  LATITUDE_OB_CCW  LONGITUDE_IB_CW  \\\n",
       "0  BELTWAY 8-EAST         29.8085          29.8089         -95.1639   \n",
       "1  BELTWAY 8-EAST         29.6656          29.6656         -95.1558   \n",
       "2  BELTWAY 8-EAST         29.8830          29.8830         -95.1984   \n",
       "3  BELTWAY 8-EAST         29.8830          29.8830         -95.1984   \n",
       "4  BELTWAY 8-EAST         29.6498          29.6498         -95.1562   \n",
       "\n",
       "   LONGITUDE_OB_CCW COUNTY_NAME  TOTAL_MINUTES ENTER_DATE ENTER_TIME  \\\n",
       "0          -95.1628      Harris              0  8/26/2017       3:56   \n",
       "1          -95.1556      Harris            357  8/26/2017       8:06   \n",
       "2          -95.1984      Harris           4745  8/27/2017       1:50   \n",
       "3          -95.1984      Harris           4351  8/27/2017       8:49   \n",
       "4          -95.1561      Harris           4138  8/27/2017      11:55   \n",
       "\n",
       "  CLEAR_DATE CLEAR_TIME  elev_meters  Rain_Totals_mm  Rain_Dist_meters  \\\n",
       "0  8/26/2017       3:56        10.10           37.44        550.454556   \n",
       "1  8/26/2017      14:03         8.88           39.75       2892.704125   \n",
       "2  8/30/2017       8:55        14.32            8.25       3149.513177   \n",
       "3  8/30/2017       9:20        14.32            8.25       3149.513177   \n",
       "4  8/30/2017       8:53         9.61           39.75       1241.143782   \n",
       "\n",
       "   Highway_Inc_Length_m  Rain_Dist_miles  Rain_Totals_meters  \n",
       "0            115.211774         0.342037             0.03744  \n",
       "1             19.361625         1.797443             0.03975  \n",
       "2              0.000000         1.957017             0.00825  \n",
       "3              0.000000         1.957017             0.00825  \n",
       "4              9.682325         0.771211             0.03975  "
      ]
     },
     "execution_count": 6,
     "metadata": {},
     "output_type": "execute_result"
    }
   ],
   "source": [
    "data.head()"
   ]
  },
  {
   "cell_type": "code",
   "execution_count": 7,
   "metadata": {},
   "outputs": [
    {
     "data": {
      "text/plain": [
       "KMeans(algorithm='auto', copy_x=True, init='k-means++', max_iter=300,\n",
       "       n_clusters=4, n_init=10, n_jobs=None, precompute_distances='auto',\n",
       "       random_state=None, tol=0.0001, verbose=0)"
      ]
     },
     "execution_count": 7,
     "metadata": {},
     "output_type": "execute_result"
    }
   ],
   "source": [
    "x = data[['LONGITUDE_IB_CW','LATITUDE_IB_CW']]\n",
    "kmeans = KMeans(4)\n",
    "kmeans.fit(x)"
   ]
  },
  {
   "cell_type": "code",
   "execution_count": 8,
   "metadata": {},
   "outputs": [
    {
     "data": {
      "text/plain": [
       "array([3, 3, 0, 0, 3, 3, 0, 0, 0, 0, 0, 0, 0, 0, 0, 0, 0, 0, 0, 0, 0, 0,\n",
       "       0, 2, 2, 3, 2, 2, 2, 2, 2, 2, 2, 2, 0, 2, 2, 2, 1, 2, 2, 1, 1, 2,\n",
       "       2, 1, 1, 2, 2, 2, 2, 2, 2, 1, 2, 2, 1, 0, 1, 3, 1, 1, 1, 0, 0, 0,\n",
       "       1, 1, 1, 1, 1, 0, 0, 1, 1, 2, 2, 1, 3, 3, 3, 2, 2, 2, 1, 1, 1, 1,\n",
       "       0, 0, 0, 0, 0, 0, 0, 0, 0, 0, 0, 0, 0, 0, 0, 0, 0, 0, 0, 0, 1, 1,\n",
       "       1, 1, 1, 1, 1, 1, 3, 1, 1, 1, 1, 1, 3, 3, 3, 3, 3, 3, 3, 3, 0, 3,\n",
       "       0, 0, 0, 0, 0, 0, 3, 3, 0, 3, 3, 3, 3, 2, 2, 0, 2, 2, 2, 2, 2, 2,\n",
       "       2, 2, 1, 1, 2, 2, 2, 0, 0, 3, 0, 0, 0, 0, 3, 3, 3, 3, 3, 3, 3, 0,\n",
       "       3, 3, 3, 2, 2, 2, 2, 3, 3, 3, 3, 3, 3, 3, 3, 3, 3, 2, 0, 0, 0, 0,\n",
       "       0, 0, 0, 0, 0, 0, 0, 0, 0, 0, 0, 0, 0, 0, 0, 0, 0, 0, 0, 0, 3, 3,\n",
       "       3, 0, 0, 0, 0, 0, 0, 0, 0, 0, 0, 2, 2, 2, 2, 2, 2, 2, 2, 2, 2, 2,\n",
       "       2, 2, 2, 2, 1, 2, 2, 0, 2, 2, 0, 2, 2, 0, 2, 2, 2, 0, 2, 0, 0, 0,\n",
       "       0, 0, 0, 0, 0, 0, 0, 0, 0, 2, 2, 2, 2, 2, 2, 2, 2, 2, 2, 2, 2, 2,\n",
       "       2, 2, 2, 0, 3, 3, 3, 3, 0, 3, 3, 3, 3, 3, 3, 3, 3, 3, 0, 0, 0, 2,\n",
       "       2, 2, 2, 2, 2, 2, 2, 2, 2, 2, 2, 2, 2, 2, 2, 2, 2, 2, 3, 3, 3, 3,\n",
       "       3, 3, 3, 2, 2, 2, 2, 2, 2, 2, 3, 2, 3, 3, 3, 3, 3, 2, 2, 0, 0, 0,\n",
       "       0, 0, 0, 0, 0, 0, 1, 1, 1, 1, 1, 1, 1, 1, 1, 3, 3, 3, 3, 3, 3, 3,\n",
       "       3, 3, 3, 3, 3, 3, 0, 0, 0, 0, 3, 3, 0, 0, 0, 0, 0, 0, 0, 0, 2, 2,\n",
       "       2, 2, 2, 2, 2, 2, 2, 2, 2, 2, 3, 3, 3, 3, 3, 2, 2, 2, 3, 2, 3, 2,\n",
       "       3, 2, 2, 2, 2, 2, 2, 2, 2, 2, 2, 2, 2, 2, 2, 2, 2, 2, 2, 2, 3, 0,\n",
       "       1, 1, 1, 1, 0, 0, 0, 0, 0, 1, 1, 1, 0, 0, 0, 2, 2, 1, 1, 2, 2, 2,\n",
       "       2, 2, 2, 2, 2, 2], dtype=int32)"
      ]
     },
     "execution_count": 8,
     "metadata": {},
     "output_type": "execute_result"
    }
   ],
   "source": [
    "identified_clusters = kmeans.fit_predict(x)\n",
    "identified_clusters"
   ]
  },
  {
   "cell_type": "code",
   "execution_count": 9,
   "metadata": {},
   "outputs": [
    {
     "data": {
      "text/plain": [
       "<matplotlib.collections.PathCollection at 0x7fef7c6002b0>"
      ]
     },
     "execution_count": 9,
     "metadata": {},
     "output_type": "execute_result"
    },
    {
     "data": {
      "image/png": "[encoded data removed]",
      "text/plain": [
       "<Figure size 432x288 with 1 Axes>"
      ]
     },
     "metadata": {
      "needs_background": "light"
     },
     "output_type": "display_data"
    }
   ],
   "source": [
    "data_with_clusters = data.copy()\n",
    "data_with_clusters['Clusters'] = identified_clusters \n",
    "plt.scatter(data_with_clusters['LONGITUDE_IB_CW'],data_with_clusters['LATITUDE_IB_CW'],c=data_with_clusters['Clusters'], cmap='rainbow')\n",
    "\n",
    "\n"
   ]
  },
  {
   "cell_type": "code",
   "execution_count": 11,
   "metadata": {},
   "outputs": [
    {
     "data": {
      "text/plain": [
       "Text(0.5, 0, 'Features')"
      ]
     },
     "execution_count": 11,
     "metadata": {},
     "output_type": "execute_result"
    },
    {
     "data": {
      "image/png": "[encoded data removed]",
      "text/plain": [
       "<Figure size 432x288 with 1 Axes>"
      ]
     },
     "metadata": {
      "needs_background": "light"
     },
     "output_type": "display_data"
    }
   ],
   "source": [
    "wcss=[]\n",
    "for i in range(1,7):\n",
    "    kmeans = KMeans(i)\n",
    "    kmeans.fit(x)\n",
    "    wcss_iter = kmeans.inertia_\n",
    "    wcss.append(wcss_iter)\n",
    "\n",
    "number_clusters = range(1,7)\n",
    "plt.plot(number_clusters,wcss)\n",
    "plt.title(\"No. of Clusters for K-means\")\n",
    "plt.xlabel(\"Features\")"
   ]
  },
  {
   "cell_type": "code",
   "execution_count": 8,
   "metadata": {},
   "outputs": [
    {
     "data": {
      "image/png": "[encoded data removed]",
      "text/plain": [
       "<Figure size 432x288 with 2 Axes>"
      ]
     },
     "metadata": {
      "needs_background": "light"
     },
     "output_type": "display_data"
    }
   ],
   "source": [
    "corr = data.corr()\n",
    "ax = sns.heatmap(\n",
    "    corr, \n",
    "    vmin=-1, vmax=1, center=0,\n",
    "    cmap=sns.diverging_palette(20, 220, n=200),\n",
    "    square=True\n",
    ")\n",
    "plt.title(\"Correlation of Mapped Dataset\")\n",
    "plt.show()"
   ]
  },
  {
   "cell_type": "code",
   "execution_count": 9,
   "metadata": {},
   "outputs": [
    {
     "data": {
      "text/plain": [
       "Index(['ROADWAY_NAME', 'LATITUDE_IB_CW', 'LATITUDE_OB_CCW', 'LONGITUDE_IB_CW',\n",
       "       'LONGITUDE_OB_CCW', 'COUNTY_NAME', 'TOTAL_MINUTES', 'ENTER_DATE',\n",
       "       'ENTER_TIME', 'CLEAR_DATE', 'CLEAR_TIME', 'elev_meters',\n",
       "       'Rain_Totals_mm', 'Rain_Dist_meters', 'Highway_Inc_Length_m',\n",
       "       'Rain_Dist_miles', 'Rain_Totals_meters'],\n",
       "      dtype='object')"
      ]
     },
     "execution_count": 9,
     "metadata": {},
     "output_type": "execute_result"
    }
   ],
   "source": [
    "data.columns"
   ]
  },
  {
   "cell_type": "code",
   "execution_count": 10,
   "metadata": {},
   "outputs": [
    {
     "data": {
      "text/plain": [
       "array(['Harris', 'Waller', 'Fort_Bend', 'Brazoria', 'Montgomery',\n",
       "       'Galveston', 'Austin', 'Chambers'], dtype=object)"
      ]
     },
     "execution_count": 10,
     "metadata": {},
     "output_type": "execute_result"
    }
   ],
   "source": [
    "data['COUNTY_NAME'].unique()"
   ]
  },
  {
   "cell_type": "code",
   "execution_count": 11,
   "metadata": {},
   "outputs": [
    {
     "data": {
      "image/png": "[encoded data removed]",
      "text/plain": [
       "<Figure size 1080x432 with 1 Axes>"
      ]
     },
     "metadata": {
      "needs_background": "light"
     },
     "output_type": "display_data"
    }
   ],
   "source": [
    "aggDf1=data.groupby('ENTER_DATE').agg({\"Rain_Totals_mm\":\"sum\", \"TOTAL_MINUTES\":\"sum\"}).reset_index()#.sum()['TOTAL_MINUTES']\n",
    "\n",
    "aggDf1['TOTAL_MINUTES'] = aggDf1['TOTAL_MINUTES']/100;\n",
    "\n",
    "aggDf1.plot(x='ENTER_DATE', y = ['Rain_Totals_mm', 'TOTAL_MINUTES'] , kind='bar', stacked=True, figsize=(15,6))\n",
    "plt.title(\"Enter Dates and data for Rainfall Totals & Time Taken to Clear Incident\")\n",
    "plt.xlabel(\"Dates the Incident was Entered\")\n",
    "plt.ylabel(\"Scaled Frequency\")\n",
    "plt.show()"
   ]
  },
  {
   "cell_type": "code",
   "execution_count": 13,
   "metadata": {
    "scrolled": true
   },
   "outputs": [
    {
     "data": {
      "image/png": "[encoded data removed]",
      "text/plain": [
       "<Figure size 1080x432 with 1 Axes>"
      ]
     },
     "metadata": {
      "needs_background": "light"
     },
     "output_type": "display_data"
    }
   ],
   "source": [
    "aggDf2=data.groupby('CLEAR_DATE').agg({\"Rain_Totals_mm\":\"sum\", \"TOTAL_MINUTES\":\"sum\"}).reset_index()#.sum()['TOTAL_MINUTES']\n",
    "\n",
    "aggDf2['TOTAL_MINUTES'] = aggDf2['TOTAL_MINUTES']/100;\n",
    "\n",
    "aggDf2.plot(x='CLEAR_DATE', y = ['Rain_Totals_mm', 'TOTAL_MINUTES'] , kind='bar', stacked=True, figsize=(15,6))\n",
    "plt.xlabel(\"Dates the Incident was Cleared\")\n",
    "plt.ylabel(\"Scaled Frequency\")\n",
    "plt.title(\"Clear Dates and data for Rainfall Totals & Time Taken to Clear Incident\")\n",
    "plt.show()"
   ]
  },
  {
   "cell_type": "code",
   "execution_count": 14,
   "metadata": {},
   "outputs": [
    {
     "data": {
      "image/png": "[encoded data removed]",
      "text/plain": [
       "<Figure size 1080x432 with 1 Axes>"
      ]
     },
     "metadata": {
      "needs_background": "light"
     },
     "output_type": "display_data"
    }
   ],
   "source": [
    "aggDf3=data.groupby('COUNTY_NAME').agg({\"Rain_Totals_mm\":\"sum\", \"TOTAL_MINUTES\":\"sum\"}).reset_index()#.sum()['TOTAL_MINUTES']\n",
    "\n",
    "aggDf3['TOTAL_MINUTES'] = aggDf3['TOTAL_MINUTES']/100;\n",
    "\n",
    "aggDf3.plot(x='COUNTY_NAME', y = ['Rain_Totals_mm', 'TOTAL_MINUTES'] , kind='bar', stacked=True, figsize=(15,6))\n",
    "plt.xlabel(\"Counties in Texas\")\n",
    "plt.ylabel(\"Scaled Frequency\")\n",
    "plt.title(\"County Specific Data for Rainfall Totals & Time Taken to Clear Incident\")\n",
    "plt.show()"
   ]
  },
  {
   "cell_type": "code",
   "execution_count": 15,
   "metadata": {},
   "outputs": [],
   "source": [
    "aggDf4=data.groupby('ROADWAY_NAME').agg({\"Highway_Inc_Length_m\":\"sum\", \"TOTAL_MINUTES\":\"sum\"}).reset_index()#.sum()['TOTAL_MINUTES']\n",
    "#print(aggDf4)\n",
    "#aggDf4['TOTAL_MINUTES'] = aggDf4['TOTAL_MINUTES']/100;\n",
    "selectedAgg = aggDf4\n",
    "#selectedAgg.drop(selectedAgg.index[selectedAgg['ROADWAY_NAME'] != ])\n",
    "#dff.drop(dff.index[df['COUNTY_NAME'] != 'Harris'], inplace=True)\n",
    "#aggDf4.plot(x='COUNTY_NAME', y = ['Rain_Totals_mm', 'TOTAL_MINUTES'] , kind='bar', stacked=True, figsize=(15,6))\n",
    "#plt.xlabel = \"Counties in Texas\"\n",
    "#plt.title(\"County Specific Data for Rainfall Totals & Time Taken to Clear Incident\")\n",
    "#plt.show()"
   ]
  },
  {
   "cell_type": "code",
   "execution_count": 16,
   "metadata": {},
   "outputs": [
    {
     "name": "stdout",
     "output_type": "stream",
     "text": [
      "Index(['IH-610 NORTH LOOP', 'IH-69', 'IH-10', 'IH-69 SOUTHWEST',\n",
      "       'IH-69 Eastex Freeway', 'IH-10 KATY', 'IH-45 GULF', 'BELTWAY 8-NORTH',\n",
      "       'IH-45', 'SH-288', 'HARDY TOLL ROAD', 'IH-45 NORTH', 'IH-10 EAST',\n",
      "       'SHT'],\n",
      "      dtype='object', name='ROADWAY_NAME')\n",
      "14\n"
     ]
    }
   ],
   "source": [
    "#grab the names of highways that have a incident count higher than the hard coded limit of incidents\n",
    "highways = data.groupby([\"ROADWAY_NAME\"])[\"TOTAL_MINUTES\"].count()\n",
    "highways = highways.sort_values()\n",
    "highways = highways[highways > 9]\n",
    "\n",
    "highwaynames = highways.index\n",
    "print(highwaynames)\n",
    "print(len(highwaynames))"
   ]
  },
  {
   "cell_type": "code",
   "execution_count": 17,
   "metadata": {},
   "outputs": [],
   "source": [
    "selectedAgg = selectedAgg[selectedAgg['ROADWAY_NAME'].isin(highwaynames)]"
   ]
  },
  {
   "cell_type": "code",
   "execution_count": 18,
   "metadata": {},
   "outputs": [
    {
     "name": "stdout",
     "output_type": "stream",
     "text": [
      "            ROADWAY_NAME  Highway_Inc_Length_m  TOTAL_MINUTES\n",
      "1        BELTWAY 8-NORTH            493.531919         524.76\n",
      "28       HARDY TOLL ROAD              0.000000         733.71\n",
      "29                 IH-10              0.000000         492.93\n",
      "30            IH-10 EAST            354.131554         622.91\n",
      "31            IH-10 KATY            202.282588         621.28\n",
      "32                 IH-45            257.351632         375.76\n",
      "33            IH-45 GULF            270.423175         485.19\n",
      "34           IH-45 NORTH             71.037584         523.54\n",
      "36     IH-610 NORTH LOOP            343.632742         303.08\n",
      "39                 IH-69             33.681608         368.78\n",
      "40  IH-69 Eastex Freeway             26.783942         459.18\n",
      "41       IH-69 SOUTHWEST            405.336541         364.54\n",
      "49                SH-288            150.127671         535.00\n",
      "58                   SHT           1514.052126        1907.31\n"
     ]
    },
    {
     "name": "stderr",
     "output_type": "stream",
     "text": [
      "/Users/urvashisaxena/anaconda3/envs/ds/lib/python3.7/site-packages/ipykernel_launcher.py:1: SettingWithCopyWarning: \n",
      "A value is trying to be set on a copy of a slice from a DataFrame.\n",
      "Try using .loc[row_indexer,col_indexer] = value instead\n",
      "\n",
      "See the caveats in the documentation: http://pandas.pydata.org/pandas-docs/stable/indexing.html#indexing-view-versus-copy\n",
      "  \"\"\"Entry point for launching an IPython kernel.\n"
     ]
    }
   ],
   "source": [
    "selectedAgg['TOTAL_MINUTES'] = selectedAgg['TOTAL_MINUTES']/100\n",
    "print(selectedAgg)"
   ]
  },
  {
   "cell_type": "code",
   "execution_count": 31,
   "metadata": {},
   "outputs": [
    {
     "name": "stdout",
     "output_type": "stream",
     "text": [
      "                  Roadways and Time Taken to Clear Incident & Highways Length Blocked\n"
     ]
    },
    {
     "data": {
      "image/png": "[encoded data removed]",
      "text/plain": [
       "<Figure size 1080x432 with 1 Axes>"
      ]
     },
     "metadata": {
      "needs_background": "light"
     },
     "output_type": "display_data"
    }
   ],
   "source": [
    "selectedAgg.plot(x='ROADWAY_NAME', y = ['TOTAL_MINUTES', 'Highway_Inc_Length_m'] , kind='bar', figsize=(15, 6))\n",
    "#plt.xlabel(\"Roadways in Texas\")\n",
    "#plt.ylabel(\"Scaled Frequency\")\n",
    "#plt.title(\"Roadways and Time Taken to Clear Incident & Highways Length Blocked\")\n",
    "print(\"                  Roadways and Time Taken to Clear Incident & Highways Length Blocked\")\n",
    "plt.show()"
   ]
  },
  {
   "cell_type": "code",
   "execution_count": 32,
   "metadata": {},
   "outputs": [
    {
     "data": {
      "text/plain": [
       "Index(['ROADWAY_NAME', 'LATITUDE_IB_CW', 'LATITUDE_OB_CCW', 'LONGITUDE_IB_CW',\n",
       "       'LONGITUDE_OB_CCW', 'COUNTY_NAME', 'TOTAL_MINUTES', 'ENTER_DATE',\n",
       "       'ENTER_TIME', 'CLEAR_DATE', 'CLEAR_TIME', 'elev_meters',\n",
       "       'Rain_Totals_mm', 'Rain_Dist_meters', 'Highway_Inc_Length_m',\n",
       "       'Rain_Dist_miles', 'Rain_Totals_meters'],\n",
       "      dtype='object')"
      ]
     },
     "execution_count": 32,
     "metadata": {},
     "output_type": "execute_result"
    }
   ],
   "source": [
    "data.columns"
   ]
  },
  {
   "cell_type": "code",
   "execution_count": 33,
   "metadata": {},
   "outputs": [],
   "source": [
    "data.drop(data[data['TOTAL_MINUTES'] < 0].index, inplace = True)"
   ]
  },
  {
   "cell_type": "code",
   "execution_count": 35,
   "metadata": {},
   "outputs": [
    {
     "name": "stdout",
     "output_type": "stream",
     "text": [
      "Random Forest: Target Variable - TOTAL_MINUTES; Predictor Variables \n",
      " - Elev_meters, Rain_Totals_meters, Rain_Dist_meters, Highway_Inc_Length_m\n",
      "MSE:  78153.97966903074\n",
      "MAE:  1528.8652482269504\n",
      "R2:  -0.3695819722662548\n",
      "Max Error:  6027\n",
      "Explained Var:  -0.36904956933240607\n"
     ]
    }
   ],
   "source": [
    "from sklearn.model_selection import train_test_split\n",
    "\n",
    "X=data[['elev_meters', 'Rain_Dist_meters', 'Highway_Inc_Length_m', 'Rain_Totals_meters']]  # Features\n",
    "y=data['TOTAL_MINUTES']  # Labels\n",
    "\n",
    "# Split dataset into training set and test set\n",
    "X_train, X_test, y_train, y_test = train_test_split(X, y, test_size=0.3) # 70% training and 30% test\n",
    "\n",
    "#Import Random Forest Model\n",
    "from sklearn.ensemble import RandomForestClassifier\n",
    "#Create a Gaussian Classifier\n",
    "clf=RandomForestClassifier(n_estimators=100)\n",
    "\n",
    "#Train the model using the training sets y_pred=clf.predict(X_test)\n",
    "clf.fit(X_train,y_train)\n",
    "\n",
    "y_pred=clf.predict(X_test)\n",
    "\n",
    "print(\"Random Forest: Target Variable - TOTAL_MINUTES; Predictor Variables \\n - Elev_meters, Rain_Totals_meters, Rain_Dist_meters, Highway_Inc_Length_m\")\n",
    "\n",
    "\n",
    "#Import scikit-learn metrics module for accuracy calculation\n",
    "from sklearn import metrics\n",
    "print(\"MSE: \" , (metrics.mean_squared_error(y_test, y_pred))/60)\n",
    "print(\"MAE: \" , metrics.mean_absolute_error(y_test, y_pred))\n",
    "print(\"R2: \" , metrics.r2_score(y_test, y_pred))\n",
    "print(\"Max Error: \" , metrics.max_error(y_test, y_pred))\n",
    "print(\"Explained Var: \" , metrics.explained_variance_score(y_test, y_pred))"
   ]
  },
  {
   "cell_type": "code",
   "execution_count": 39,
   "metadata": {},
   "outputs": [
    {
     "data": {
      "text/plain": [
       "RandomForestClassifier(bootstrap=True, class_weight=None, criterion='gini',\n",
       "                       max_depth=None, max_features='auto', max_leaf_nodes=None,\n",
       "                       min_impurity_decrease=0.0, min_impurity_split=None,\n",
       "                       min_samples_leaf=1, min_samples_split=2,\n",
       "                       min_weight_fraction_leaf=0.0, n_estimators=100,\n",
       "                       n_jobs=None, oob_score=False, random_state=None,\n",
       "                       verbose=0, warm_start=False)"
      ]
     },
     "execution_count": 39,
     "metadata": {},
     "output_type": "execute_result"
    }
   ],
   "source": [
    "from sklearn.ensemble import RandomForestClassifier\n",
    "\n",
    "#Create a Gaussian Classifier\n",
    "clf=RandomForestClassifier(n_estimators=100)\n",
    "\n",
    "#Train the model using the training sets y_pred=clf.predict(X_test)\n",
    "clf.fit(X_train,y_train)"
   ]
  },
  {
   "cell_type": "code",
   "execution_count": 40,
   "metadata": {},
   "outputs": [
    {
     "data": {
      "text/plain": [
       "elev_meters             0.294876\n",
       "Rain_Dist_meters        0.294301\n",
       "Rain_Totals_meters      0.236271\n",
       "Highway_Inc_Length_m    0.174552\n",
       "dtype: float64"
      ]
     },
     "execution_count": 40,
     "metadata": {},
     "output_type": "execute_result"
    }
   ],
   "source": [
    "import pandas as pd\n",
    "feature_imp = pd.Series(clf.feature_importances_,index=['elev_meters', 'Rain_Dist_meters', 'Highway_Inc_Length_m', 'Rain_Totals_meters']).sort_values(ascending=False)\n",
    "feature_imp"
   ]
  },
  {
   "cell_type": "code",
   "execution_count": 41,
   "metadata": {},
   "outputs": [
    {
     "name": "stderr",
     "output_type": "stream",
     "text": [
      "No handles with labels found to put in legend.\n"
     ]
    },
    {
     "data": {
      "image/png": "[encoded data removed]",
      "text/plain": [
       "<Figure size 432x288 with 1 Axes>"
      ]
     },
     "metadata": {
      "needs_background": "light"
     },
     "output_type": "display_data"
    }
   ],
   "source": [
    "import matplotlib.pyplot as plt\n",
    "import seaborn as sns\n",
    "%matplotlib inline\n",
    "# Creating a bar plot\n",
    "sns.barplot(x=feature_imp, y=feature_imp.index)\n",
    "# Add labels to your graph\n",
    "plt.xlabel = 'Feature Importance Score'\n",
    "plt.ylabel= 'Features'\n",
    "plt.title = \"Visualizing Important Features\" \n",
    "plt.legend()\n",
    "plt.show()"
   ]
  },
  {
   "cell_type": "code",
   "execution_count": 129,
   "metadata": {},
   "outputs": [
    {
     "data": {
      "text/plain": [
       "Index(['ROADWAY_NAME', 'LATITUDE_IB_CW', 'LATITUDE_OB_CCW', 'LONGITUDE_IB_CW',\n",
       "       'LONGITUDE_OB_CCW', 'COUNTY_NAME', 'TOTAL_MINUTES', 'ENTER_DATE',\n",
       "       'ENTER_TIME', 'CLEAR_DATE', 'CLEAR_TIME', 'elev_meters',\n",
       "       'Rain_Totals_mm', 'Rain_Dist_meters', 'Highway_Inc_Length_m',\n",
       "       'Rain_Dist_miles', 'Rain_Totals_meters'],\n",
       "      dtype='object')"
      ]
     },
     "execution_count": 129,
     "metadata": {},
     "output_type": "execute_result"
    }
   ],
   "source": [
    "data.columns"
   ]
  },
  {
   "cell_type": "code",
   "execution_count": 42,
   "metadata": {},
   "outputs": [
    {
     "ename": "NameError",
     "evalue": "name 'RunRandomForest' is not defined",
     "output_type": "error",
     "traceback": [
      "\u001b[0;31m---------------------------------------------------------------------------\u001b[0m",
      "\u001b[0;31mNameError\u001b[0m                                 Traceback (most recent call last)",
      "\u001b[0;32m<ipython-input-42-f363bb918088>\u001b[0m in \u001b[0;36m<module>\u001b[0;34m\u001b[0m\n\u001b[1;32m      1\u001b[0m \u001b[0mpredictors\u001b[0m \u001b[0;34m=\u001b[0m \u001b[0;34m[\u001b[0m\u001b[0;34m'elev_meters'\u001b[0m\u001b[0;34m,\u001b[0m \u001b[0;34m'Highway_Inc_Length_m'\u001b[0m\u001b[0;34m,\u001b[0m \u001b[0;34m'Rain_Totals_meters'\u001b[0m\u001b[0;34m,\u001b[0m \u001b[0;34m'Rain_Dist_meters'\u001b[0m\u001b[0;34m]\u001b[0m\u001b[0;34m\u001b[0m\u001b[0;34m\u001b[0m\u001b[0m\n\u001b[1;32m      2\u001b[0m \u001b[0mtarget\u001b[0m \u001b[0;34m=\u001b[0m \u001b[0;34m'TOTAL_MINUTES'\u001b[0m\u001b[0;34m\u001b[0m\u001b[0;34m\u001b[0m\u001b[0m\n\u001b[0;32m----> 3\u001b[0;31m \u001b[0mRunRandomForest\u001b[0m\u001b[0;34m(\u001b[0m\u001b[0mdata\u001b[0m\u001b[0;34m,\u001b[0m \u001b[0mpredictors\u001b[0m\u001b[0;34m,\u001b[0m \u001b[0mtarget\u001b[0m\u001b[0;34m)\u001b[0m\u001b[0;34m\u001b[0m\u001b[0;34m\u001b[0m\u001b[0m\n\u001b[0m",
      "\u001b[0;31mNameError\u001b[0m: name 'RunRandomForest' is not defined"
     ]
    }
   ],
   "source": [
    "predictors = ['elev_meters', 'Highway_Inc_Length_m', 'Rain_Totals_meters', 'Rain_Dist_meters']\n",
    "target = 'TOTAL_MINUTES'\n",
    "RunRandomForest(data, predictors, target)"
   ]
  },
  {
   "cell_type": "code",
   "execution_count": 47,
   "metadata": {},
   "outputs": [],
   "source": [
    "def RunRandomForest(data, predictors, target):\n",
    "    ########## Import train_test_split function\n",
    "    from sklearn.model_selection import train_test_split\n",
    "    # Split dataset into features and labels\n",
    "    X=data[predictors]  # Removed feature \"sepal length\"\n",
    "    y=data[target]                                       \n",
    "    # Split dataset into training set and test set\n",
    "    X_train, X_test, y_train, y_test = train_test_split(X, y, test_size=0.70, random_state=5) # 70% training and 30% test\n",
    "\n",
    "    from sklearn.ensemble import RandomForestClassifier\n",
    "    ######### Create a Gaussian Classifier\n",
    "    clf=RandomForestClassifier(n_estimators=100)\n",
    "    ######### Train the model using the training sets y_pred=clf.predict(X_test)\n",
    "    clf.fit(X_train,y_train)\n",
    "\n",
    "    ######### prediction on test set\n",
    "    y_pred=clf.predict(X_test)\n",
    "\n",
    "    #print(\"Random Forest: Target Variable - TOTAL_MINUTES; Predictor Variables - \\n\", predictors)\n",
    "\n",
    "    #Import scikit-learn metrics module for accuracy calculation\n",
    "    from sklearn import metrics\n",
    "    print(\"MSE: \" , (metrics.mean_squared_error(y_test, y_pred))/60)\n",
    "    print(\"MAE: \" , metrics.mean_absolute_error(y_test, y_pred))\n",
    "    print(\"R2: \" , metrics.r2_score(y_test, y_pred))\n",
    "    print(\"Max Error: \" , metrics.max_error(y_test, y_pred))\n",
    "    print(\"Explained Var: \" , metrics.explained_variance_score(y_test, y_pred))"
   ]
  },
  {
   "cell_type": "code",
   "execution_count": 154,
   "metadata": {
    "collapsed": true
   },
   "outputs": [
    {
     "name": "stderr",
     "output_type": "stream",
     "text": [
      "/Users/urvashisaxena/anaconda3/envs/ds/lib/python3.7/site-packages/sklearn/ensemble/forest.py:245: FutureWarning: The default value of n_estimators will change from 10 in version 0.20 to 100 in 0.22.\n",
      "  \"10 in version 0.20 to 100 in 0.22.\", FutureWarning)\n"
     ]
    },
    {
     "name": "stdout",
     "output_type": "stream",
     "text": [
      "Round 2\n",
      "MSE:  118850.64166666666\n",
      "MAE:  2055.946808510638\n",
      "R2:  -1.7964576479757421\n",
      "Max Error:  7211\n",
      "Explained Var:  -1.552037881084432\n",
      "Round 3\n",
      "MSE:  122656.87482269504\n",
      "MAE:  2123.553191489362\n",
      "R2:  -1.0150714791507216\n",
      "Max Error:  7111\n",
      "Explained Var:  -0.9131588145848395\n",
      "Round 4\n",
      "MSE:  99779.92186379927\n",
      "MAE:  1903.8709677419354\n",
      "R2:  -1.0525771129815635\n",
      "Max Error:  6601\n",
      "Explained Var:  -1.0357552684153086\n",
      "Round 5\n",
      "MSE:  110696.63297491039\n",
      "MAE:  1984.6666666666667\n",
      "R2:  -0.8401365881917904\n",
      "Max Error:  6025\n",
      "Explained Var:  -0.8024719784293579\n",
      "Round 6\n",
      "MSE:  100832.66093189965\n",
      "MAE:  1895.3548387096773\n",
      "R2:  -1.00274040434756\n",
      "Max Error:  6065\n",
      "Explained Var:  -1.0018666314399778\n"
     ]
    },
    {
     "name": "stderr",
     "output_type": "stream",
     "text": [
      "/Users/urvashisaxena/anaconda3/envs/ds/lib/python3.7/site-packages/sklearn/ensemble/forest.py:245: FutureWarning: The default value of n_estimators will change from 10 in version 0.20 to 100 in 0.22.\n",
      "  \"10 in version 0.20 to 100 in 0.22.\", FutureWarning)\n",
      "/Users/urvashisaxena/anaconda3/envs/ds/lib/python3.7/site-packages/sklearn/ensemble/forest.py:245: FutureWarning: The default value of n_estimators will change from 10 in version 0.20 to 100 in 0.22.\n",
      "  \"10 in version 0.20 to 100 in 0.22.\", FutureWarning)\n",
      "/Users/urvashisaxena/anaconda3/envs/ds/lib/python3.7/site-packages/sklearn/ensemble/forest.py:245: FutureWarning: The default value of n_estimators will change from 10 in version 0.20 to 100 in 0.22.\n",
      "  \"10 in version 0.20 to 100 in 0.22.\", FutureWarning)\n",
      "/Users/urvashisaxena/anaconda3/envs/ds/lib/python3.7/site-packages/sklearn/ensemble/forest.py:245: FutureWarning: The default value of n_estimators will change from 10 in version 0.20 to 100 in 0.22.\n",
      "  \"10 in version 0.20 to 100 in 0.22.\", FutureWarning)\n"
     ]
    }
   ],
   "source": [
    "from sklearn.model_selection import KFold\n",
    "folds = KFold(n_splits=5)\n",
    "folds.get_n_splits(X)\n",
    "fold = 1\n",
    "for train_index, test_index in folds.split(data):\n",
    "    X_train, X_test, y_train, y_test = X.iloc[train_index], X.iloc[test_index], y.iloc[train_index], y.iloc[test_index]\n",
    "    model = RandomForestClassifier()\n",
    "    model.fit(X_train, y_train)\n",
    "    y_pred = model.predict(X_test)\n",
    "    fold+=1\n",
    "    print(f\"Round {fold}\")\n",
    "    print(\"MSE: \" , (metrics.mean_squared_error(y_test, y_pred))/60)\n",
    "    print(\"MAE: \" , metrics.mean_absolute_error(y_test, y_pred))\n",
    "    print(\"R2: \" , metrics.r2_score(y_test, y_pred))\n",
    "    print(\"Max Error: \" , metrics.max_error(y_test, y_pred))\n",
    "    print(\"Explained Var: \" , metrics.explained_variance_score(y_test, y_pred))"
   ]
  },
  {
   "cell_type": "code",
   "execution_count": 41,
   "metadata": {},
   "outputs": [
    {
     "name": "stdout",
     "output_type": "stream",
     "text": [
      "MSE:  5029982.921985815\n",
      "MAE:  1681.177304964539\n",
      "R2:  -0.7226667072522517\n",
      "Max Error:  6301\n",
      "Explained Var:  -0.7226098968043884\n"
     ]
    }
   ],
   "source": [
    "from sklearn.model_selection import train_test_split\n",
    "\n",
    "X=data[['elev_meters', 'Rain_Dist_meters', 'Highway_Inc_Length_m', 'Rain_Totals_meters']]  # Features\n",
    "y=data['TOTAL_MINUTES']  # Labels\n",
    "\n",
    "# Split dataset into training set and test set\n",
    "X_train, X_test, y_train, y_test = train_test_split(X, y, test_size=0.3) # 70% training and 30% test\n",
    "\n",
    "#Import svm model\n",
    "from sklearn import svm\n",
    "\n",
    "#Create a svm Classifier\n",
    "clf = svm.SVC(kernel='linear') # Linear Kernel\n",
    "\n",
    "#Train the model using the training sets\n",
    "clf.fit(X_train, y_train)\n",
    "\n",
    "#Predict the response for test dataset\n",
    "y_pred = clf.predict(X_test)\n",
    "\n",
    "#Import scikit-learn metrics module for accuracy calculation\n",
    "from sklearn import metrics\n",
    "print(\"MSE: \" , (metrics.mean_squared_error(y_test, y_pred)))\n",
    "print(\"MAE: \" , metrics.mean_absolute_error(y_test, y_pred))\n",
    "print(\"R2: \" , metrics.r2_score(y_test, y_pred))\n",
    "print(\"Max Error: \" , metrics.max_error(y_test, y_pred))\n",
    "print(\"Explained Var: \", metrics.explained_variance_score(y_test, y_pred))"
   ]
  },
  {
   "cell_type": "code",
   "execution_count": 43,
   "metadata": {},
   "outputs": [
    {
     "name": "stdout",
     "output_type": "stream",
     "text": [
      "MSE:  4744406.815602837\n",
      "MAE:  1531.212765957447\n",
      "R2:  -0.4035454084562078\n",
      "Max Error:  7016\n",
      "Explained Var:  -0.4031917731957071\n"
     ]
    }
   ],
   "source": [
    "RunSVM(data,predictors, target)"
   ]
  },
  {
   "cell_type": "code",
   "execution_count": 48,
   "metadata": {},
   "outputs": [],
   "source": [
    "def RunSVM (data, predictors, target):\n",
    "    from sklearn.model_selection import train_test_split\n",
    "    X=data[predictors]  # Features\n",
    "    y=data[target]  # Labels\n",
    "    # Split dataset into training set and test set\n",
    "    X_train, X_test, y_train, y_test = train_test_split(X, y, test_size=0.3) # 70% training and 30% test\n",
    "    \n",
    "    #Import svm model\n",
    "    from sklearn import svm\n",
    "\n",
    "    #Create a svm Classifier\n",
    "    clf = svm.SVC(kernel='linear') # Linear Kernel\n",
    "\n",
    "    #Train the model using the training sets\n",
    "    clf.fit(X_train, y_train)\n",
    "\n",
    "    #Predict the response for test dataset\n",
    "    y_pred = clf.predict(X_test)\n",
    "\n",
    "    #Import scikit-learn metrics module for accuracy calculation\n",
    "    from sklearn import metrics\n",
    "    print(\"MSE: \" , (metrics.mean_squared_error(y_test, y_pred)))\n",
    "    print(\"MAE: \" , metrics.mean_absolute_error(y_test, y_pred))\n",
    "    print(\"R2: \" , metrics.r2_score(y_test, y_pred))\n",
    "    print(\"Max Error: \" , metrics.max_error(y_test, y_pred))\n",
    "    print(\"Explained Var: \", metrics.explained_variance_score(y_test, y_pred))"
   ]
  },
  {
   "cell_type": "code",
   "execution_count": 49,
   "metadata": {},
   "outputs": [
    {
     "data": {
      "text/plain": [
       "Index(['ROADWAY_NAME', 'LATITUDE_IB_CW', 'LATITUDE_OB_CCW', 'LONGITUDE_IB_CW',\n",
       "       'LONGITUDE_OB_CCW', 'COUNTY_NAME', 'TOTAL_MINUTES', 'ENTER_DATE',\n",
       "       'ENTER_TIME', 'CLEAR_DATE', 'CLEAR_TIME', 'elev_meters',\n",
       "       'Rain_Totals_mm', 'Rain_Dist_meters', 'Highway_Inc_Length_m',\n",
       "       'Rain_Dist_miles', 'Rain_Totals_meters'],\n",
       "      dtype='object')"
      ]
     },
     "execution_count": 49,
     "metadata": {},
     "output_type": "execute_result"
    }
   ],
   "source": [
    "data.columns"
   ]
  },
  {
   "cell_type": "code",
   "execution_count": 50,
   "metadata": {},
   "outputs": [
    {
     "name": "stdout",
     "output_type": "stream",
     "text": [
      "TARGET VARIABLE -  TOTAL_MINUTES\n",
      "PREDICTOR VARIABLES -  ['elev_meters', 'Highway_Inc_Length_m', 'Rain_Totals_meters', 'Rain_Dist_meters']\n",
      "\n",
      "Random Forest - \n",
      "MSE:  88340.00519877675\n",
      "MAE:  1709.8960244648317\n",
      "R2:  -0.6030296261098664\n",
      "Max Error:  6272\n",
      "Explained Var:  -0.5828658391212445\n",
      "\n",
      "Support Vector Machine - \n",
      "MSE:  4950245.55319149\n",
      "MAE:  1680.2482269503546\n",
      "R2:  -0.6562369079315085\n",
      "Max Error:  6272\n",
      "Explained Var:  -0.6451673409045027\n"
     ]
    }
   ],
   "source": [
    "#RF & #SVM\n",
    "#regression\n",
    "predictors = ['elev_meters', 'Highway_Inc_Length_m', 'Rain_Totals_meters', 'Rain_Dist_meters']\n",
    "target = 'TOTAL_MINUTES'\n",
    "print(\"TARGET VARIABLE - \", target)\n",
    "print(\"PREDICTOR VARIABLES - \", predictors)\n",
    "print(\"\")\n",
    "print(\"Random Forest - \")\n",
    "RunRandomForest(data, predictors, target)\n",
    "print(\"\")\n",
    "print(\"Support Vector Machine - \")\n",
    "RunSVM(data, predictors, target)"
   ]
  },
  {
   "cell_type": "code",
   "execution_count": 51,
   "metadata": {},
   "outputs": [
    {
     "name": "stdout",
     "output_type": "stream",
     "text": [
      "TARGET VARIABLE -  TOTAL_MINUTES\n",
      "PREDICTOR VARIABLES -  ['elev_meters', 'Rain_Totals_meters', 'Rain_Dist_meters']\n",
      "\n",
      "Random Forest - \n",
      "MSE:  93988.84714576961\n",
      "MAE:  1754.4984709480123\n",
      "R2:  -0.7055342724913802\n",
      "Max Error:  7020\n",
      "Explained Var:  -0.7029926344128659\n",
      "\n",
      "Support Vector Machine - \n",
      "MSE:  5968887.716312056\n",
      "MAE:  1763.6737588652481\n",
      "R2:  -0.613428850553297\n",
      "Max Error:  6358\n",
      "Explained Var:  -0.5849984748943253\n"
     ]
    }
   ],
   "source": [
    "#RF & #SVM\n",
    "#regression\n",
    "predictors = ['elev_meters', 'Rain_Totals_meters', 'Rain_Dist_meters']\n",
    "target = 'TOTAL_MINUTES'\n",
    "print(\"TARGET VARIABLE - \", target)\n",
    "print(\"PREDICTOR VARIABLES - \", predictors)\n",
    "print(\"\")\n",
    "print(\"Random Forest - \")\n",
    "RunRandomForest(data, predictors, target)\n",
    "print(\"\")\n",
    "print(\"Support Vector Machine - \")\n",
    "RunSVM(data, predictors, target)"
   ]
  },
  {
   "cell_type": "code",
   "execution_count": 52,
   "metadata": {},
   "outputs": [
    {
     "name": "stdout",
     "output_type": "stream",
     "text": [
      "TARGET VARIABLE -  TOTAL_MINUTES\n",
      "PREDICTOR VARIABLES -  ['elev_meters', 'Rain_Totals_meters']\n",
      "\n",
      "Random Forest - \n",
      "MSE:  95748.4365443425\n",
      "MAE:  1813.6727828746177\n",
      "R2:  -0.7374640185826815\n",
      "Max Error:  6451\n",
      "Explained Var:  -0.7024879992830111\n",
      "\n",
      "Support Vector Machine - \n",
      "MSE:  6611646.170212766\n",
      "MAE:  1984.9078014184397\n",
      "R2:  -1.1823249602570245\n",
      "Max Error:  7213\n",
      "Explained Var:  -1.170286254824283\n"
     ]
    }
   ],
   "source": [
    "#RF & #SVM\n",
    "#regression\n",
    "predictors = ['elev_meters', 'Rain_Totals_meters']\n",
    "target = 'TOTAL_MINUTES'\n",
    "print(\"TARGET VARIABLE - \", target)\n",
    "print(\"PREDICTOR VARIABLES - \", predictors)\n",
    "print(\"\")\n",
    "print(\"Random Forest - \")\n",
    "RunRandomForest(data, predictors, target)\n",
    "print(\"\")\n",
    "print(\"Support Vector Machine - \")\n",
    "RunSVM(data, predictors, target)"
   ]
  },
  {
   "cell_type": "code",
   "execution_count": 53,
   "metadata": {
    "scrolled": true
   },
   "outputs": [
    {
     "name": "stdout",
     "output_type": "stream",
     "text": [
      "TARGET VARIABLE -  TOTAL_MINUTES\n",
      "PREDICTOR VARIABLES -  ['elev_meters', 'Highway_Inc_Length_m']\n",
      "\n",
      "Random Forest - \n",
      "MSE:  112855.44352701325\n",
      "MAE:  1889.7003058103976\n",
      "R2:  -1.047890070127325\n",
      "Max Error:  9295\n",
      "Explained Var:  -0.9735521231688389\n",
      "\n",
      "Support Vector Machine - \n",
      "MSE:  4700339.191489362\n",
      "MAE:  1604.8085106382978\n",
      "R2:  -0.8460441049264695\n",
      "Max Error:  6404\n",
      "Explained Var:  -0.778067610258971\n"
     ]
    }
   ],
   "source": [
    "#RF & #SVM\n",
    "#regression\n",
    "predictors = ['elev_meters', 'Highway_Inc_Length_m' ]\n",
    "target = 'TOTAL_MINUTES'\n",
    "print(\"TARGET VARIABLE - \", target)\n",
    "print(\"PREDICTOR VARIABLES - \", predictors)\n",
    "print(\"\")\n",
    "print(\"Random Forest - \")\n",
    "RunRandomForest(data, predictors, target)\n",
    "print(\"\")\n",
    "print(\"Support Vector Machine - \")\n",
    "RunSVM(data, predictors, target)"
   ]
  },
  {
   "cell_type": "code",
   "execution_count": 54,
   "metadata": {},
   "outputs": [
    {
     "name": "stdout",
     "output_type": "stream",
     "text": [
      "TARGET VARIABLE -  TOTAL_MINUTES\n",
      "PREDICTOR VARIABLES -  ['elev_meters']\n",
      "\n",
      "Random Forest - \n",
      "MSE:  113116.01549439348\n",
      "MAE:  1933.1681957186545\n",
      "R2:  -1.052618444123957\n",
      "Max Error:  9295\n",
      "Explained Var:  -1.0079244274111918\n",
      "\n",
      "Support Vector Machine - \n",
      "MSE:  5485367.1773049645\n",
      "MAE:  1805.4893617021276\n",
      "R2:  -0.6340345151971283\n",
      "Max Error:  7211\n",
      "Explained Var:  -0.5850481498071964\n"
     ]
    }
   ],
   "source": [
    "#RF & #SVM\n",
    "#regression\n",
    "predictors = ['elev_meters']\n",
    "target = 'TOTAL_MINUTES'\n",
    "print(\"TARGET VARIABLE - \", target)\n",
    "print(\"PREDICTOR VARIABLES - \", predictors)\n",
    "print(\"\")\n",
    "print(\"Random Forest - \")\n",
    "RunRandomForest(data, predictors, target)\n",
    "print(\"\")\n",
    "print(\"Support Vector Machine - \")\n",
    "RunSVM(data, predictors, target)"
   ]
  },
  {
   "cell_type": "code",
   "execution_count": 55,
   "metadata": {},
   "outputs": [
    {
     "name": "stdout",
     "output_type": "stream",
     "text": [
      "TARGET VARIABLE -  TOTAL_MINUTES\n",
      "PREDICTOR VARIABLES -  ['Highway_Inc_Length_m', 'Rain_Totals_meters', 'Rain_Dist_meters']\n",
      "\n",
      "Random Forest - \n",
      "MSE:  95055.53944954129\n",
      "MAE:  1828.34250764526\n",
      "R2:  -0.7248906146269933\n",
      "Max Error:  6355\n",
      "Explained Var:  -0.6772468080526779\n",
      "\n",
      "Support Vector Machine - \n",
      "MSE:  6360306.29787234\n",
      "MAE:  1851.4609929078015\n",
      "R2:  -1.0252489543548196\n",
      "Max Error:  8584\n",
      "Explained Var:  -1.011784820217926\n"
     ]
    }
   ],
   "source": [
    "#RF & #SVM\n",
    "#regression\n",
    "predictors = ['Highway_Inc_Length_m', 'Rain_Totals_meters', 'Rain_Dist_meters']\n",
    "target = 'TOTAL_MINUTES'\n",
    "print(\"TARGET VARIABLE - \", target)\n",
    "print(\"PREDICTOR VARIABLES - \", predictors)\n",
    "print(\"\")\n",
    "print(\"Random Forest - \")\n",
    "RunRandomForest(data, predictors, target)\n",
    "print(\"\")\n",
    "print(\"Support Vector Machine - \")\n",
    "RunSVM(data, predictors, target)"
   ]
  },
  {
   "cell_type": "code",
   "execution_count": null,
   "metadata": {},
   "outputs": [],
   "source": []
  }
 ],
 "metadata": {
  "kernelspec": {
   "display_name": "Python 3",
   "language": "python",
   "name": "python3"
  },
  "language_info": {
   "codemirror_mode": {
    "name": "ipython",
    "version": 3
   },
   "file_extension": ".py",
   "mimetype": "text/x-python",
   "name": "python",
   "nbconvert_exporter": "python",
   "pygments_lexer": "ipython3",
   "version": "3.7.3"
  }
 },
 "nbformat": 4,
 "nbformat_minor": 2
}
