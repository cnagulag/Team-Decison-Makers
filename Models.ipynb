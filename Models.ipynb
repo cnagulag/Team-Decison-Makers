{
 "cells": [
  {
   "cell_type": "code",
   "execution_count": 1,
   "metadata": {},
   "outputs": [],
   "source": [
    "#the goal is to plot correlations and run the models to get some ideas\n",
    "#also try for monte carlo simulation\n",
    "#try for moran's I statistic\n",
    "#plot more vizs"
   ]
  },
  {
   "cell_type": "code",
   "execution_count": 2,
   "metadata": {},
   "outputs": [],
   "source": [
    "import pandas as pd;\n",
    "import seaborn as sns;\n",
    "import matplotlib.pyplot as plt;\n",
    "import numpy as np;\n",
    "import statsmodels.api as sm;\n",
    "from sklearn.cluster import KMeans"
   ]
  },
  {
   "cell_type": "code",
   "execution_count": 99,
   "metadata": {},
   "outputs": [],
   "source": [
    "data = pd.read_csv('MappedDataset.csv')"
   ]
  },
  {
   "cell_type": "code",
   "execution_count": 4,
   "metadata": {},
   "outputs": [
    {
     "data": {
      "text/plain": [
       "array(['Harris', 'Waller', 'Fort_Bend', 'Brazoria', 'Montgomery',\n",
       "       'Galveston', 'Austin', 'Chambers'], dtype=object)"
      ]
     },
     "execution_count": 4,
     "metadata": {},
     "output_type": "execute_result"
    }
   ],
   "source": [
    "data['COUNTY_NAME'].unique()"
   ]
  },
  {
   "cell_type": "code",
   "execution_count": 5,
   "metadata": {},
   "outputs": [
    {
     "data": {
      "image/png": "[encoded data removed]",
      "text/plain": [
       "<Figure size 432x288 with 1 Axes>"
      ]
     },
     "metadata": {
      "needs_background": "light"
     },
     "output_type": "display_data"
    }
   ],
   "source": [
    "plt.scatter(data['LONGITUDE_IB_CW'],data['LATITUDE_IB_CW'])\n",
    "plt.show()"
   ]
  },
  {
   "cell_type": "code",
   "execution_count": 5,
   "metadata": {},
   "outputs": [
    {
     "data": {
      "text/html": [
       "<div>\n",
       "<style scoped>\n",
       "    .dataframe tbody tr th:only-of-type {\n",
       "        vertical-align: middle;\n",
       "    }\n",
       "\n",
       "    .dataframe tbody tr th {\n",
       "        vertical-align: top;\n",
       "    }\n",
       "\n",
       "    .dataframe thead th {\n",
       "        text-align: right;\n",
       "    }\n",
       "</style>\n",
       "<table border=\"1\" class=\"dataframe\">\n",
       "  <thead>\n",
       "    <tr style=\"text-align: right;\">\n",
       "      <th></th>\n",
       "      <th>ROADWAY_NAME</th>\n",
       "      <th>LATITUDE_IB_CW</th>\n",
       "      <th>LATITUDE_OB_CCW</th>\n",
       "      <th>LONGITUDE_IB_CW</th>\n",
       "      <th>LONGITUDE_OB_CCW</th>\n",
       "      <th>COUNTY_NAME</th>\n",
       "      <th>TOTAL_MINUTES</th>\n",
       "      <th>ENTER_DATE</th>\n",
       "      <th>ENTER_TIME</th>\n",
       "      <th>CLEAR_DATE</th>\n",
       "      <th>CLEAR_TIME</th>\n",
       "      <th>elev_meters</th>\n",
       "      <th>Rain_Totals_mm</th>\n",
       "      <th>Rain_Dist_meters</th>\n",
       "      <th>Highway_Inc_Length_m</th>\n",
       "      <th>Rain_Dist_miles</th>\n",
       "      <th>Rain_Totals_meters</th>\n",
       "    </tr>\n",
       "  </thead>\n",
       "  <tbody>\n",
       "    <tr>\n",
       "      <th>0</th>\n",
       "      <td>BELTWAY 8-EAST</td>\n",
       "      <td>29.8085</td>\n",
       "      <td>29.8089</td>\n",
       "      <td>-95.1639</td>\n",
       "      <td>-95.1628</td>\n",
       "      <td>Harris</td>\n",
       "      <td>0</td>\n",
       "      <td>8/26/2017</td>\n",
       "      <td>3:56</td>\n",
       "      <td>8/26/2017</td>\n",
       "      <td>3:56</td>\n",
       "      <td>10.10</td>\n",
       "      <td>37.44</td>\n",
       "      <td>550.454556</td>\n",
       "      <td>115.211774</td>\n",
       "      <td>0.342037</td>\n",
       "      <td>0.03744</td>\n",
       "    </tr>\n",
       "    <tr>\n",
       "      <th>1</th>\n",
       "      <td>BELTWAY 8-EAST</td>\n",
       "      <td>29.6656</td>\n",
       "      <td>29.6656</td>\n",
       "      <td>-95.1558</td>\n",
       "      <td>-95.1556</td>\n",
       "      <td>Harris</td>\n",
       "      <td>357</td>\n",
       "      <td>8/26/2017</td>\n",
       "      <td>8:06</td>\n",
       "      <td>8/26/2017</td>\n",
       "      <td>14:03</td>\n",
       "      <td>8.88</td>\n",
       "      <td>39.75</td>\n",
       "      <td>2892.704125</td>\n",
       "      <td>19.361625</td>\n",
       "      <td>1.797443</td>\n",
       "      <td>0.03975</td>\n",
       "    </tr>\n",
       "    <tr>\n",
       "      <th>2</th>\n",
       "      <td>BELTWAY 8-EAST</td>\n",
       "      <td>29.8830</td>\n",
       "      <td>29.8830</td>\n",
       "      <td>-95.1984</td>\n",
       "      <td>-95.1984</td>\n",
       "      <td>Harris</td>\n",
       "      <td>4745</td>\n",
       "      <td>8/27/2017</td>\n",
       "      <td>1:50</td>\n",
       "      <td>8/30/2017</td>\n",
       "      <td>8:55</td>\n",
       "      <td>14.32</td>\n",
       "      <td>8.25</td>\n",
       "      <td>3149.513177</td>\n",
       "      <td>0.000000</td>\n",
       "      <td>1.957017</td>\n",
       "      <td>0.00825</td>\n",
       "    </tr>\n",
       "    <tr>\n",
       "      <th>3</th>\n",
       "      <td>BELTWAY 8-EAST</td>\n",
       "      <td>29.8830</td>\n",
       "      <td>29.8830</td>\n",
       "      <td>-95.1984</td>\n",
       "      <td>-95.1984</td>\n",
       "      <td>Harris</td>\n",
       "      <td>4351</td>\n",
       "      <td>8/27/2017</td>\n",
       "      <td>8:49</td>\n",
       "      <td>8/30/2017</td>\n",
       "      <td>9:20</td>\n",
       "      <td>14.32</td>\n",
       "      <td>8.25</td>\n",
       "      <td>3149.513177</td>\n",
       "      <td>0.000000</td>\n",
       "      <td>1.957017</td>\n",
       "      <td>0.00825</td>\n",
       "    </tr>\n",
       "    <tr>\n",
       "      <th>4</th>\n",
       "      <td>BELTWAY 8-EAST</td>\n",
       "      <td>29.6498</td>\n",
       "      <td>29.6498</td>\n",
       "      <td>-95.1562</td>\n",
       "      <td>-95.1561</td>\n",
       "      <td>Harris</td>\n",
       "      <td>4138</td>\n",
       "      <td>8/27/2017</td>\n",
       "      <td>11:55</td>\n",
       "      <td>8/30/2017</td>\n",
       "      <td>8:53</td>\n",
       "      <td>9.61</td>\n",
       "      <td>39.75</td>\n",
       "      <td>1241.143782</td>\n",
       "      <td>9.682325</td>\n",
       "      <td>0.771211</td>\n",
       "      <td>0.03975</td>\n",
       "    </tr>\n",
       "  </tbody>\n",
       "</table>\n",
       "</div>"
      ],
      "text/plain": [
       "     ROADWAY_NAME  LATITUDE_IB_CW  LATITUDE_OB_CCW  LONGITUDE_IB_CW  \\\n",
       "0  BELTWAY 8-EAST         29.8085          29.8089         -95.1639   \n",
       "1  BELTWAY 8-EAST         29.6656          29.6656         -95.1558   \n",
       "2  BELTWAY 8-EAST         29.8830          29.8830         -95.1984   \n",
       "3  BELTWAY 8-EAST         29.8830          29.8830         -95.1984   \n",
       "4  BELTWAY 8-EAST         29.6498          29.6498         -95.1562   \n",
       "\n",
       "   LONGITUDE_OB_CCW COUNTY_NAME  TOTAL_MINUTES ENTER_DATE ENTER_TIME  \\\n",
       "0          -95.1628      Harris              0  8/26/2017       3:56   \n",
       "1          -95.1556      Harris            357  8/26/2017       8:06   \n",
       "2          -95.1984      Harris           4745  8/27/2017       1:50   \n",
       "3          -95.1984      Harris           4351  8/27/2017       8:49   \n",
       "4          -95.1561      Harris           4138  8/27/2017      11:55   \n",
       "\n",
       "  CLEAR_DATE CLEAR_TIME  elev_meters  Rain_Totals_mm  Rain_Dist_meters  \\\n",
       "0  8/26/2017       3:56        10.10           37.44        550.454556   \n",
       "1  8/26/2017      14:03         8.88           39.75       2892.704125   \n",
       "2  8/30/2017       8:55        14.32            8.25       3149.513177   \n",
       "3  8/30/2017       9:20        14.32            8.25       3149.513177   \n",
       "4  8/30/2017       8:53         9.61           39.75       1241.143782   \n",
       "\n",
       "   Highway_Inc_Length_m  Rain_Dist_miles  Rain_Totals_meters  \n",
       "0            115.211774         0.342037             0.03744  \n",
       "1             19.361625         1.797443             0.03975  \n",
       "2              0.000000         1.957017             0.00825  \n",
       "3              0.000000         1.957017             0.00825  \n",
       "4              9.682325         0.771211             0.03975  "
      ]
     },
     "execution_count": 5,
     "metadata": {},
     "output_type": "execute_result"
    }
   ],
   "source": [
    "data.head()"
   ]
  },
  {
   "cell_type": "code",
   "execution_count": 6,
   "metadata": {},
   "outputs": [
    {
     "data": {
      "text/plain": [
       "KMeans(algorithm='auto', copy_x=True, init='k-means++', max_iter=300,\n",
       "       n_clusters=4, n_init=10, n_jobs=None, precompute_distances='auto',\n",
       "       random_state=None, tol=0.0001, verbose=0)"
      ]
     },
     "execution_count": 6,
     "metadata": {},
     "output_type": "execute_result"
    }
   ],
   "source": [
    "x = data[['LONGITUDE_IB_CW','LATITUDE_IB_CW']]\n",
    "kmeans = KMeans(4)\n",
    "kmeans.fit(x)"
   ]
  },
  {
   "cell_type": "code",
   "execution_count": 7,
   "metadata": {},
   "outputs": [
    {
     "data": {
      "text/plain": [
       "array([2, 2, 3, 3, 2, 2, 3, 3, 3, 3, 3, 3, 3, 3, 3, 3, 3, 3, 3, 3, 3, 3,\n",
       "       3, 1, 1, 2, 1, 1, 1, 1, 1, 1, 1, 1, 3, 1, 1, 3, 0, 1, 1, 0, 1, 1,\n",
       "       1, 0, 0, 1, 1, 1, 1, 1, 1, 0, 1, 1, 0, 3, 0, 2, 0, 0, 0, 3, 3, 3,\n",
       "       0, 0, 0, 0, 0, 3, 3, 0, 0, 1, 1, 0, 2, 2, 2, 1, 1, 1, 0, 0, 0, 0,\n",
       "       3, 3, 3, 3, 3, 3, 3, 3, 3, 3, 3, 3, 3, 3, 3, 3, 3, 3, 3, 3, 0, 0,\n",
       "       0, 0, 0, 0, 0, 0, 2, 0, 0, 0, 0, 0, 2, 2, 2, 2, 2, 2, 2, 2, 3, 2,\n",
       "       3, 3, 3, 3, 3, 3, 2, 2, 3, 2, 2, 2, 2, 1, 1, 3, 1, 1, 1, 3, 3, 3,\n",
       "       3, 1, 1, 0, 1, 1, 1, 3, 3, 2, 3, 3, 3, 3, 2, 2, 2, 2, 2, 2, 2, 3,\n",
       "       2, 2, 2, 3, 3, 3, 3, 2, 2, 2, 2, 2, 2, 2, 2, 2, 2, 3, 3, 3, 3, 3,\n",
       "       3, 3, 3, 3, 3, 3, 3, 3, 3, 3, 3, 3, 3, 3, 3, 3, 3, 3, 3, 3, 2, 2,\n",
       "       2, 3, 3, 3, 3, 3, 3, 3, 3, 3, 3, 1, 1, 1, 1, 2, 2, 1, 1, 1, 1, 1,\n",
       "       1, 1, 1, 1, 0, 1, 1, 3, 1, 1, 3, 1, 1, 3, 1, 1, 1, 3, 3, 3, 3, 3,\n",
       "       3, 3, 3, 3, 3, 3, 3, 3, 3, 3, 1, 1, 1, 1, 1, 1, 1, 1, 1, 3, 1, 1,\n",
       "       1, 1, 1, 3, 2, 2, 2, 2, 3, 2, 2, 2, 2, 2, 2, 2, 2, 2, 3, 3, 3, 1,\n",
       "       1, 1, 1, 1, 1, 1, 1, 1, 1, 3, 1, 1, 1, 1, 1, 1, 1, 1, 2, 2, 2, 2,\n",
       "       2, 2, 2, 1, 1, 1, 1, 1, 1, 1, 2, 1, 2, 2, 2, 2, 2, 1, 1, 3, 3, 3,\n",
       "       3, 3, 3, 3, 3, 3, 0, 0, 0, 0, 0, 0, 0, 0, 0, 2, 2, 2, 2, 2, 2, 2,\n",
       "       2, 2, 2, 2, 2, 2, 3, 3, 3, 3, 2, 2, 3, 3, 3, 3, 3, 3, 3, 3, 1, 1,\n",
       "       1, 1, 1, 1, 1, 1, 1, 1, 1, 1, 2, 2, 2, 2, 2, 1, 1, 1, 2, 1, 2, 1,\n",
       "       2, 1, 1, 1, 1, 1, 1, 1, 1, 1, 1, 3, 1, 1, 1, 1, 1, 1, 1, 1, 2, 3,\n",
       "       0, 0, 0, 0, 3, 3, 3, 3, 3, 0, 0, 0, 3, 3, 3, 1, 1, 0, 0, 1, 1, 1,\n",
       "       1, 1, 1, 1, 1, 1], dtype=int32)"
      ]
     },
     "execution_count": 7,
     "metadata": {},
     "output_type": "execute_result"
    }
   ],
   "source": [
    "identified_clusters = kmeans.fit_predict(x)\n",
    "identified_clusters"
   ]
  },
  {
   "cell_type": "code",
   "execution_count": 9,
   "metadata": {},
   "outputs": [
    {
     "data": {
      "text/plain": [
       "Text(0.5, 1.0, 'K-means Clustering Plot - Based on Location of Incidents')"
      ]
     },
     "execution_count": 9,
     "metadata": {},
     "output_type": "execute_result"
    },
    {
     "data": {
      "image/png": "[encoded data removed]",
      "text/plain": [
       "<Figure size 432x288 with 1 Axes>"
      ]
     },
     "metadata": {
      "needs_background": "light"
     },
     "output_type": "display_data"
    }
   ],
   "source": [
    "data_with_clusters = data.copy()\n",
    "data_with_clusters['Clusters'] = identified_clusters \n",
    "plt.scatter(data_with_clusters['LONGITUDE_IB_CW'],data_with_clusters['LATITUDE_IB_CW'],c=data_with_clusters['Clusters'], cmap='rainbow')\n",
    "plt.title(\"K-means Clustering Plot - Based on Location of Incidents\")\n",
    "\n"
   ]
  },
  {
   "cell_type": "code",
   "execution_count": 10,
   "metadata": {},
   "outputs": [
    {
     "data": {
      "text/plain": [
       "Text(0.5, 0, 'Features')"
      ]
     },
     "execution_count": 10,
     "metadata": {},
     "output_type": "execute_result"
    },
    {
     "data": {
      "image/png": "[encoded data removed]",
      "text/plain": [
       "<Figure size 432x288 with 1 Axes>"
      ]
     },
     "metadata": {
      "needs_background": "light"
     },
     "output_type": "display_data"
    }
   ],
   "source": [
    "wcss=[]\n",
    "for i in range(1,7):\n",
    "    kmeans = KMeans(i)\n",
    "    kmeans.fit(x)\n",
    "    wcss_iter = kmeans.inertia_\n",
    "    wcss.append(wcss_iter)\n",
    "\n",
    "number_clusters = range(1,7)\n",
    "plt.plot(number_clusters,wcss)\n",
    "plt.title(\"No. of Clusters for K-means\")\n",
    "plt.xlabel(\"Features\")"
   ]
  },
  {
   "cell_type": "code",
   "execution_count": 11,
   "metadata": {},
   "outputs": [
    {
     "data": {
      "image/png": "[encoded data removed]",
      "text/plain": [
       "<Figure size 432x288 with 2 Axes>"
      ]
     },
     "metadata": {
      "needs_background": "light"
     },
     "output_type": "display_data"
    }
   ],
   "source": [
    "corr = data.corr()\n",
    "ax = sns.heatmap(\n",
    "    corr, \n",
    "    vmin=-1, vmax=1, center=0,\n",
    "    cmap=sns.diverging_palette(20, 220, n=200),\n",
    "    square=True\n",
    ")\n",
    "plt.title(\"Correlation of Mapped Dataset\")\n",
    "plt.show()"
   ]
  },
  {
   "cell_type": "code",
   "execution_count": 12,
   "metadata": {},
   "outputs": [
    {
     "data": {
      "text/plain": [
       "Index(['ROADWAY_NAME', 'LATITUDE_IB_CW', 'LATITUDE_OB_CCW', 'LONGITUDE_IB_CW',\n",
       "       'LONGITUDE_OB_CCW', 'COUNTY_NAME', 'TOTAL_MINUTES', 'ENTER_DATE',\n",
       "       'ENTER_TIME', 'CLEAR_DATE', 'CLEAR_TIME', 'elev_meters',\n",
       "       'Rain_Totals_mm', 'Rain_Dist_meters', 'Highway_Inc_Length_m',\n",
       "       'Rain_Dist_miles', 'Rain_Totals_meters'],\n",
       "      dtype='object')"
      ]
     },
     "execution_count": 12,
     "metadata": {},
     "output_type": "execute_result"
    }
   ],
   "source": [
    "data.columns"
   ]
  },
  {
   "cell_type": "code",
   "execution_count": 13,
   "metadata": {},
   "outputs": [
    {
     "data": {
      "text/plain": [
       "array(['Harris', 'Waller', 'Fort_Bend', 'Brazoria', 'Montgomery',\n",
       "       'Galveston', 'Austin', 'Chambers'], dtype=object)"
      ]
     },
     "execution_count": 13,
     "metadata": {},
     "output_type": "execute_result"
    }
   ],
   "source": [
    "data['COUNTY_NAME'].unique()"
   ]
  },
  {
   "cell_type": "code",
   "execution_count": 14,
   "metadata": {},
   "outputs": [
    {
     "data": {
      "image/png": "[encoded data removed]",
      "text/plain": [
       "<Figure size 1080x432 with 1 Axes>"
      ]
     },
     "metadata": {
      "needs_background": "light"
     },
     "output_type": "display_data"
    }
   ],
   "source": [
    "aggDf1=data.groupby('ENTER_DATE').agg({\"Rain_Totals_mm\":\"sum\", \"TOTAL_MINUTES\":\"sum\"}).reset_index()#.sum()['TOTAL_MINUTES']\n",
    "\n",
    "aggDf1['TOTAL_MINUTES'] = aggDf1['TOTAL_MINUTES']/100;\n",
    "\n",
    "aggDf1.plot(x='ENTER_DATE', y = ['Rain_Totals_mm', 'TOTAL_MINUTES'] , kind='bar', stacked=True, figsize=(15,6))\n",
    "plt.title(\"Enter Dates and data for Rainfall Totals & Time Taken to Clear Incident\")\n",
    "plt.xlabel(\"Dates the Incident was Entered\")\n",
    "plt.ylabel(\"Scaled Frequency\")\n",
    "plt.show()"
   ]
  },
  {
   "cell_type": "code",
   "execution_count": 15,
   "metadata": {
    "scrolled": true
   },
   "outputs": [
    {
     "data": {
      "image/png": "[encoded data removed]",
      "text/plain": [
       "<Figure size 1080x432 with 1 Axes>"
      ]
     },
     "metadata": {
      "needs_background": "light"
     },
     "output_type": "display_data"
    }
   ],
   "source": [
    "aggDf2=data.groupby('CLEAR_DATE').agg({\"Rain_Totals_mm\":\"sum\", \"TOTAL_MINUTES\":\"sum\"}).reset_index()#.sum()['TOTAL_MINUTES']\n",
    "\n",
    "aggDf2['TOTAL_MINUTES'] = aggDf2['TOTAL_MINUTES']/100;\n",
    "\n",
    "aggDf2.plot(x='CLEAR_DATE', y = ['Rain_Totals_mm', 'TOTAL_MINUTES'] , kind='bar', stacked=True, figsize=(15,6))\n",
    "plt.xlabel(\"Dates the Incident was Cleared\")\n",
    "plt.ylabel(\"Scaled Frequency\")\n",
    "plt.title(\"Clear Dates and data for Rainfall Totals & Time Taken to Clear Incident\")\n",
    "plt.show()"
   ]
  },
  {
   "cell_type": "code",
   "execution_count": 16,
   "metadata": {},
   "outputs": [
    {
     "data": {
      "image/png": "[encoded data removed]",
      "text/plain": [
       "<Figure size 1080x432 with 1 Axes>"
      ]
     },
     "metadata": {
      "needs_background": "light"
     },
     "output_type": "display_data"
    }
   ],
   "source": [
    "aggDf3=data.groupby('COUNTY_NAME').agg({\"Rain_Totals_mm\":\"sum\", \"TOTAL_MINUTES\":\"sum\"}).reset_index()#.sum()['TOTAL_MINUTES']\n",
    "\n",
    "aggDf3['TOTAL_MINUTES'] = aggDf3['TOTAL_MINUTES']/100;\n",
    "\n",
    "aggDf3.plot(x='COUNTY_NAME', y = ['Rain_Totals_mm', 'TOTAL_MINUTES'] , kind='bar', stacked=True, figsize=(15,6))\n",
    "plt.xlabel(\"Counties in Texas\")\n",
    "plt.ylabel(\"Scaled Frequency\")\n",
    "plt.title(\"County Specific Data for Rainfall Totals & Time Taken to Clear Incident\")\n",
    "plt.show()"
   ]
  },
  {
   "cell_type": "code",
   "execution_count": 17,
   "metadata": {},
   "outputs": [],
   "source": [
    "aggDf4=data.groupby('ROADWAY_NAME').agg({\"Highway_Inc_Length_m\":\"sum\", \"TOTAL_MINUTES\":\"sum\"}).reset_index()#.sum()['TOTAL_MINUTES']\n",
    "#print(aggDf4)\n",
    "#aggDf4['TOTAL_MINUTES'] = aggDf4['TOTAL_MINUTES']/100;\n",
    "selectedAgg = aggDf4\n",
    "#selectedAgg.drop(selectedAgg.index[selectedAgg['ROADWAY_NAME'] != ])\n",
    "#dff.drop(dff.index[df['COUNTY_NAME'] != 'Harris'], inplace=True)\n",
    "#aggDf4.plot(x='COUNTY_NAME', y = ['Rain_Totals_mm', 'TOTAL_MINUTES'] , kind='bar', stacked=True, figsize=(15,6))\n",
    "#plt.xlabel = \"Counties in Texas\"\n",
    "#plt.title(\"County Specific Data for Rainfall Totals & Time Taken to Clear Incident\")\n",
    "#plt.show()"
   ]
  },
  {
   "cell_type": "code",
   "execution_count": 18,
   "metadata": {},
   "outputs": [
    {
     "name": "stdout",
     "output_type": "stream",
     "text": [
      "Index(['IH-610 NORTH LOOP', 'IH-69', 'IH-10', 'IH-69 SOUTHWEST',\n",
      "       'IH-69 Eastex Freeway', 'IH-10 KATY', 'IH-45 GULF', 'BELTWAY 8-NORTH',\n",
      "       'IH-45', 'SH-288', 'HARDY TOLL ROAD', 'IH-45 NORTH', 'IH-10 EAST',\n",
      "       'SHT'],\n",
      "      dtype='object', name='ROADWAY_NAME')\n",
      "14\n"
     ]
    }
   ],
   "source": [
    "#grab the names of highways that have a incident count higher than the hard coded limit of incidents\n",
    "highways = data.groupby([\"ROADWAY_NAME\"])[\"TOTAL_MINUTES\"].count()\n",
    "highways = highways.sort_values()\n",
    "highways = highways[highways > 9]\n",
    "\n",
    "highwaynames = highways.index\n",
    "print(highwaynames)\n",
    "print(len(highwaynames))"
   ]
  },
  {
   "cell_type": "code",
   "execution_count": 19,
   "metadata": {},
   "outputs": [],
   "source": [
    "selectedAgg = selectedAgg[selectedAgg['ROADWAY_NAME'].isin(highwaynames)]"
   ]
  },
  {
   "cell_type": "code",
   "execution_count": 18,
   "metadata": {},
   "outputs": [
    {
     "name": "stdout",
     "output_type": "stream",
     "text": [
      "            ROADWAY_NAME  Highway_Inc_Length_m  TOTAL_MINUTES\n",
      "1        BELTWAY 8-NORTH            493.531919         524.76\n",
      "28       HARDY TOLL ROAD              0.000000         733.71\n",
      "29                 IH-10              0.000000         492.93\n",
      "30            IH-10 EAST            354.131554         622.91\n",
      "31            IH-10 KATY            202.282588         621.28\n",
      "32                 IH-45            257.351632         375.76\n",
      "33            IH-45 GULF            270.423175         485.19\n",
      "34           IH-45 NORTH             71.037584         523.54\n",
      "36     IH-610 NORTH LOOP            343.632742         303.08\n",
      "39                 IH-69             33.681608         368.78\n",
      "40  IH-69 Eastex Freeway             26.783942         459.18\n",
      "41       IH-69 SOUTHWEST            405.336541         364.54\n",
      "49                SH-288            150.127671         535.00\n",
      "58                   SHT           1514.052126        1907.31\n"
     ]
    },
    {
     "name": "stderr",
     "output_type": "stream",
     "text": [
      "/Users/urvashisaxena/anaconda3/envs/ds/lib/python3.7/site-packages/ipykernel_launcher.py:1: SettingWithCopyWarning: \n",
      "A value is trying to be set on a copy of a slice from a DataFrame.\n",
      "Try using .loc[row_indexer,col_indexer] = value instead\n",
      "\n",
      "See the caveats in the documentation: http://pandas.pydata.org/pandas-docs/stable/indexing.html#indexing-view-versus-copy\n",
      "  \"\"\"Entry point for launching an IPython kernel.\n"
     ]
    }
   ],
   "source": [
    "selectedAgg['TOTAL_MINUTES'] = selectedAgg['TOTAL_MINUTES']/100\n",
    "print(selectedAgg)"
   ]
  },
  {
   "cell_type": "code",
   "execution_count": 31,
   "metadata": {},
   "outputs": [
    {
     "name": "stdout",
     "output_type": "stream",
     "text": [
      "                  Roadways and Time Taken to Clear Incident & Highways Length Blocked\n"
     ]
    },
    {
     "data": {
      "image/png": "[encoded data removed]",
      "text/plain": [
       "<Figure size 1080x432 with 1 Axes>"
      ]
     },
     "metadata": {
      "needs_background": "light"
     },
     "output_type": "display_data"
    }
   ],
   "source": [
    "selectedAgg.plot(x='ROADWAY_NAME', y = ['TOTAL_MINUTES', 'Highway_Inc_Length_m'] , kind='bar', figsize=(15, 6))\n",
    "#plt.xlabel(\"Roadways in Texas\")\n",
    "#plt.ylabel(\"Scaled Frequency\")\n",
    "#plt.title(\"Roadways and Time Taken to Clear Incident & Highways Length Blocked\")\n",
    "print(\"                  Roadways and Time Taken to Clear Incident & Highways Length Blocked\")\n",
    "plt.show()"
   ]
  },
  {
   "cell_type": "code",
   "execution_count": 20,
   "metadata": {},
   "outputs": [
    {
     "data": {
      "text/plain": [
       "Index(['ROADWAY_NAME', 'LATITUDE_IB_CW', 'LATITUDE_OB_CCW', 'LONGITUDE_IB_CW',\n",
       "       'LONGITUDE_OB_CCW', 'COUNTY_NAME', 'TOTAL_MINUTES', 'ENTER_DATE',\n",
       "       'ENTER_TIME', 'CLEAR_DATE', 'CLEAR_TIME', 'elev_meters',\n",
       "       'Rain_Totals_mm', 'Rain_Dist_meters', 'Highway_Inc_Length_m',\n",
       "       'Rain_Dist_miles', 'Rain_Totals_meters'],\n",
       "      dtype='object')"
      ]
     },
     "execution_count": 20,
     "metadata": {},
     "output_type": "execute_result"
    }
   ],
   "source": [
    "data.columns"
   ]
  },
  {
   "cell_type": "code",
   "execution_count": 104,
   "metadata": {},
   "outputs": [
    {
     "data": {
      "text/html": [
       "<div>\n",
       "<style scoped>\n",
       "    .dataframe tbody tr th:only-of-type {\n",
       "        vertical-align: middle;\n",
       "    }\n",
       "\n",
       "    .dataframe tbody tr th {\n",
       "        vertical-align: top;\n",
       "    }\n",
       "\n",
       "    .dataframe thead th {\n",
       "        text-align: right;\n",
       "    }\n",
       "</style>\n",
       "<table border=\"1\" class=\"dataframe\">\n",
       "  <thead>\n",
       "    <tr style=\"text-align: right;\">\n",
       "      <th></th>\n",
       "      <th>ROADWAY_NAME</th>\n",
       "      <th>LATITUDE_IB_CW</th>\n",
       "      <th>LATITUDE_OB_CCW</th>\n",
       "      <th>LONGITUDE_IB_CW</th>\n",
       "      <th>LONGITUDE_OB_CCW</th>\n",
       "      <th>COUNTY_NAME</th>\n",
       "      <th>TOTAL_MINUTES</th>\n",
       "      <th>ENTER_DATE</th>\n",
       "      <th>ENTER_TIME</th>\n",
       "      <th>CLEAR_DATE</th>\n",
       "      <th>CLEAR_TIME</th>\n",
       "      <th>elev_meters</th>\n",
       "      <th>Rain_Totals_mm</th>\n",
       "      <th>Rain_Dist_meters</th>\n",
       "      <th>Highway_Inc_Length_m</th>\n",
       "      <th>Rain_Dist_miles</th>\n",
       "      <th>Rain_Totals_meters</th>\n",
       "    </tr>\n",
       "  </thead>\n",
       "  <tbody>\n",
       "  </tbody>\n",
       "</table>\n",
       "</div>"
      ],
      "text/plain": [
       "Empty DataFrame\n",
       "Columns: [ROADWAY_NAME, LATITUDE_IB_CW, LATITUDE_OB_CCW, LONGITUDE_IB_CW, LONGITUDE_OB_CCW, COUNTY_NAME, TOTAL_MINUTES, ENTER_DATE, ENTER_TIME, CLEAR_DATE, CLEAR_TIME, elev_meters, Rain_Totals_mm, Rain_Dist_meters, Highway_Inc_Length_m, Rain_Dist_miles, Rain_Totals_meters]\n",
       "Index: []"
      ]
     },
     "execution_count": 104,
     "metadata": {},
     "output_type": "execute_result"
    }
   ],
   "source": [
    "#check if the total minutes is less than 1\n",
    "data[data['TOTAL_MINUTES'] < 1]"
   ]
  },
  {
   "cell_type": "code",
   "execution_count": 103,
   "metadata": {},
   "outputs": [
    {
     "data": {
      "text/plain": [
       "(468, 17)"
      ]
     },
     "execution_count": 103,
     "metadata": {},
     "output_type": "execute_result"
    }
   ],
   "source": [
    "data.shape"
   ]
  },
  {
   "cell_type": "code",
   "execution_count": 106,
   "metadata": {},
   "outputs": [],
   "source": [
    "data['Highway_Inc_Length_m'] = data['Highway_Inc_Length_m'].astype(int)"
   ]
  },
  {
   "cell_type": "code",
   "execution_count": 107,
   "metadata": {},
   "outputs": [
    {
     "data": {
      "text/html": [
       "<div>\n",
       "<style scoped>\n",
       "    .dataframe tbody tr th:only-of-type {\n",
       "        vertical-align: middle;\n",
       "    }\n",
       "\n",
       "    .dataframe tbody tr th {\n",
       "        vertical-align: top;\n",
       "    }\n",
       "\n",
       "    .dataframe thead th {\n",
       "        text-align: right;\n",
       "    }\n",
       "</style>\n",
       "<table border=\"1\" class=\"dataframe\">\n",
       "  <thead>\n",
       "    <tr style=\"text-align: right;\">\n",
       "      <th></th>\n",
       "      <th>ROADWAY_NAME</th>\n",
       "      <th>LATITUDE_IB_CW</th>\n",
       "      <th>LATITUDE_OB_CCW</th>\n",
       "      <th>LONGITUDE_IB_CW</th>\n",
       "      <th>LONGITUDE_OB_CCW</th>\n",
       "      <th>COUNTY_NAME</th>\n",
       "      <th>TOTAL_MINUTES</th>\n",
       "      <th>ENTER_DATE</th>\n",
       "      <th>ENTER_TIME</th>\n",
       "      <th>CLEAR_DATE</th>\n",
       "      <th>CLEAR_TIME</th>\n",
       "      <th>elev_meters</th>\n",
       "      <th>Rain_Totals_mm</th>\n",
       "      <th>Rain_Dist_meters</th>\n",
       "      <th>Highway_Inc_Length_m</th>\n",
       "      <th>Rain_Dist_miles</th>\n",
       "      <th>Rain_Totals_meters</th>\n",
       "    </tr>\n",
       "  </thead>\n",
       "  <tbody>\n",
       "    <tr>\n",
       "      <th>57</th>\n",
       "      <td>FM-1488</td>\n",
       "      <td>30.224398</td>\n",
       "      <td>30.224391</td>\n",
       "      <td>-95.547428</td>\n",
       "      <td>-95.547428</td>\n",
       "      <td>Montgomery</td>\n",
       "      <td>5344</td>\n",
       "      <td>8/27/2017</td>\n",
       "      <td>15:23</td>\n",
       "      <td>8/31/2017</td>\n",
       "      <td>8:27</td>\n",
       "      <td>59.92</td>\n",
       "      <td>3.76</td>\n",
       "      <td>4837.072434</td>\n",
       "      <td>0</td>\n",
       "      <td>3.005617</td>\n",
       "      <td>0.00376</td>\n",
       "    </tr>\n",
       "    <tr>\n",
       "      <th>122</th>\n",
       "      <td>IH-10 EAST</td>\n",
       "      <td>29.792342</td>\n",
       "      <td>29.792340</td>\n",
       "      <td>-95.079678</td>\n",
       "      <td>-95.079678</td>\n",
       "      <td>Harris</td>\n",
       "      <td>122</td>\n",
       "      <td>8/26/2017</td>\n",
       "      <td>5:04</td>\n",
       "      <td>8/26/2017</td>\n",
       "      <td>7:06</td>\n",
       "      <td>1.12</td>\n",
       "      <td>45.10</td>\n",
       "      <td>3845.178224</td>\n",
       "      <td>0</td>\n",
       "      <td>2.389283</td>\n",
       "      <td>0.04510</td>\n",
       "    </tr>\n",
       "    <tr>\n",
       "      <th>123</th>\n",
       "      <td>IH-10 EAST</td>\n",
       "      <td>29.792342</td>\n",
       "      <td>29.792340</td>\n",
       "      <td>-95.079678</td>\n",
       "      <td>-95.079678</td>\n",
       "      <td>Harris</td>\n",
       "      <td>118</td>\n",
       "      <td>8/26/2017</td>\n",
       "      <td>5:08</td>\n",
       "      <td>8/26/2017</td>\n",
       "      <td>7:06</td>\n",
       "      <td>1.12</td>\n",
       "      <td>45.10</td>\n",
       "      <td>3845.178224</td>\n",
       "      <td>0</td>\n",
       "      <td>2.389283</td>\n",
       "      <td>0.04510</td>\n",
       "    </tr>\n",
       "    <tr>\n",
       "      <th>128</th>\n",
       "      <td>IH-10 EAST</td>\n",
       "      <td>29.792342</td>\n",
       "      <td>29.792340</td>\n",
       "      <td>-95.079678</td>\n",
       "      <td>-95.079678</td>\n",
       "      <td>Harris</td>\n",
       "      <td>7138</td>\n",
       "      <td>8/26/2017</td>\n",
       "      <td>11:43</td>\n",
       "      <td>8/31/2017</td>\n",
       "      <td>10:41</td>\n",
       "      <td>1.12</td>\n",
       "      <td>45.10</td>\n",
       "      <td>3845.178224</td>\n",
       "      <td>0</td>\n",
       "      <td>2.389283</td>\n",
       "      <td>0.04510</td>\n",
       "    </tr>\n",
       "    <tr>\n",
       "      <th>131</th>\n",
       "      <td>IH-10 EAST</td>\n",
       "      <td>29.792342</td>\n",
       "      <td>29.792340</td>\n",
       "      <td>-95.079678</td>\n",
       "      <td>-95.079678</td>\n",
       "      <td>Harris</td>\n",
       "      <td>6530</td>\n",
       "      <td>8/26/2017</td>\n",
       "      <td>21:53</td>\n",
       "      <td>8/31/2017</td>\n",
       "      <td>10:43</td>\n",
       "      <td>1.12</td>\n",
       "      <td>45.10</td>\n",
       "      <td>3845.178224</td>\n",
       "      <td>0</td>\n",
       "      <td>2.389283</td>\n",
       "      <td>0.04510</td>\n",
       "    </tr>\n",
       "    <tr>\n",
       "      <th>194</th>\n",
       "      <td>IH-45 NORTH</td>\n",
       "      <td>29.789952</td>\n",
       "      <td>29.789958</td>\n",
       "      <td>-95.371808</td>\n",
       "      <td>-95.371808</td>\n",
       "      <td>Harris</td>\n",
       "      <td>504</td>\n",
       "      <td>8/26/2017</td>\n",
       "      <td>7:04</td>\n",
       "      <td>8/26/2017</td>\n",
       "      <td>15:28</td>\n",
       "      <td>9.92</td>\n",
       "      <td>34.00</td>\n",
       "      <td>418.303918</td>\n",
       "      <td>0</td>\n",
       "      <td>0.259922</td>\n",
       "      <td>0.03400</td>\n",
       "    </tr>\n",
       "    <tr>\n",
       "      <th>195</th>\n",
       "      <td>IH-45 NORTH</td>\n",
       "      <td>29.789952</td>\n",
       "      <td>29.789958</td>\n",
       "      <td>-95.371808</td>\n",
       "      <td>-95.371808</td>\n",
       "      <td>Harris</td>\n",
       "      <td>422</td>\n",
       "      <td>8/26/2017</td>\n",
       "      <td>7:56</td>\n",
       "      <td>8/26/2017</td>\n",
       "      <td>14:58</td>\n",
       "      <td>9.92</td>\n",
       "      <td>34.00</td>\n",
       "      <td>418.303918</td>\n",
       "      <td>0</td>\n",
       "      <td>0.259922</td>\n",
       "      <td>0.03400</td>\n",
       "    </tr>\n",
       "    <tr>\n",
       "      <th>198</th>\n",
       "      <td>IH-45 NORTH</td>\n",
       "      <td>29.789952</td>\n",
       "      <td>29.789958</td>\n",
       "      <td>-95.371808</td>\n",
       "      <td>-95.371808</td>\n",
       "      <td>Harris</td>\n",
       "      <td>4167</td>\n",
       "      <td>8/26/2017</td>\n",
       "      <td>22:34</td>\n",
       "      <td>8/29/2017</td>\n",
       "      <td>20:01</td>\n",
       "      <td>9.92</td>\n",
       "      <td>34.00</td>\n",
       "      <td>418.303918</td>\n",
       "      <td>0</td>\n",
       "      <td>0.259922</td>\n",
       "      <td>0.03400</td>\n",
       "    </tr>\n",
       "    <tr>\n",
       "      <th>203</th>\n",
       "      <td>IH-45 NORTH</td>\n",
       "      <td>29.789952</td>\n",
       "      <td>29.789958</td>\n",
       "      <td>-95.371808</td>\n",
       "      <td>-95.371808</td>\n",
       "      <td>Harris</td>\n",
       "      <td>4124</td>\n",
       "      <td>8/26/2017</td>\n",
       "      <td>23:34</td>\n",
       "      <td>8/29/2017</td>\n",
       "      <td>20:18</td>\n",
       "      <td>9.92</td>\n",
       "      <td>34.00</td>\n",
       "      <td>418.303918</td>\n",
       "      <td>0</td>\n",
       "      <td>0.259922</td>\n",
       "      <td>0.03400</td>\n",
       "    </tr>\n",
       "    <tr>\n",
       "      <th>246</th>\n",
       "      <td>IH-69</td>\n",
       "      <td>29.494314</td>\n",
       "      <td>29.494311</td>\n",
       "      <td>-95.911601</td>\n",
       "      <td>-95.911601</td>\n",
       "      <td>Fort_Bend</td>\n",
       "      <td>6988</td>\n",
       "      <td>8/25/2017</td>\n",
       "      <td>22:22</td>\n",
       "      <td>8/30/2017</td>\n",
       "      <td>18:50</td>\n",
       "      <td>32.25</td>\n",
       "      <td>30.34</td>\n",
       "      <td>17497.038192</td>\n",
       "      <td>0</td>\n",
       "      <td>10.872155</td>\n",
       "      <td>0.03034</td>\n",
       "    </tr>\n",
       "    <tr>\n",
       "      <th>262</th>\n",
       "      <td>IH-69 Eastex Freeway</td>\n",
       "      <td>29.808311</td>\n",
       "      <td>29.808315</td>\n",
       "      <td>-95.336136</td>\n",
       "      <td>-95.336136</td>\n",
       "      <td>Harris</td>\n",
       "      <td>4156</td>\n",
       "      <td>8/27/2017</td>\n",
       "      <td>1:07</td>\n",
       "      <td>8/29/2017</td>\n",
       "      <td>22:23</td>\n",
       "      <td>14.23</td>\n",
       "      <td>36.76</td>\n",
       "      <td>2244.193210</td>\n",
       "      <td>0</td>\n",
       "      <td>1.394477</td>\n",
       "      <td>0.03676</td>\n",
       "    </tr>\n",
       "    <tr>\n",
       "      <th>263</th>\n",
       "      <td>IH-69 Eastex Freeway</td>\n",
       "      <td>29.808311</td>\n",
       "      <td>29.808315</td>\n",
       "      <td>-95.336136</td>\n",
       "      <td>-95.336136</td>\n",
       "      <td>Harris</td>\n",
       "      <td>31</td>\n",
       "      <td>8/27/2017</td>\n",
       "      <td>1:18</td>\n",
       "      <td>8/27/2017</td>\n",
       "      <td>1:49</td>\n",
       "      <td>14.23</td>\n",
       "      <td>36.76</td>\n",
       "      <td>2244.193210</td>\n",
       "      <td>0</td>\n",
       "      <td>1.394477</td>\n",
       "      <td>0.03676</td>\n",
       "    </tr>\n",
       "    <tr>\n",
       "      <th>268</th>\n",
       "      <td>IH-69 Eastex Freeway</td>\n",
       "      <td>29.813337</td>\n",
       "      <td>29.813333</td>\n",
       "      <td>-95.335191</td>\n",
       "      <td>-95.335191</td>\n",
       "      <td>Harris</td>\n",
       "      <td>2596</td>\n",
       "      <td>8/27/2017</td>\n",
       "      <td>20:36</td>\n",
       "      <td>8/29/2017</td>\n",
       "      <td>15:52</td>\n",
       "      <td>10.10</td>\n",
       "      <td>36.76</td>\n",
       "      <td>2210.861669</td>\n",
       "      <td>0</td>\n",
       "      <td>1.373766</td>\n",
       "      <td>0.03676</td>\n",
       "    </tr>\n",
       "    <tr>\n",
       "      <th>269</th>\n",
       "      <td>IH-69 Eastex Freeway</td>\n",
       "      <td>29.813337</td>\n",
       "      <td>29.813333</td>\n",
       "      <td>-95.335191</td>\n",
       "      <td>-95.335191</td>\n",
       "      <td>Harris</td>\n",
       "      <td>2592</td>\n",
       "      <td>8/27/2017</td>\n",
       "      <td>20:37</td>\n",
       "      <td>8/29/2017</td>\n",
       "      <td>15:49</td>\n",
       "      <td>10.10</td>\n",
       "      <td>36.76</td>\n",
       "      <td>2210.861669</td>\n",
       "      <td>0</td>\n",
       "      <td>1.373766</td>\n",
       "      <td>0.03676</td>\n",
       "    </tr>\n",
       "    <tr>\n",
       "      <th>293</th>\n",
       "      <td>SH 275 / HARBORSIDE</td>\n",
       "      <td>29.314355</td>\n",
       "      <td>29.314347</td>\n",
       "      <td>-94.770566</td>\n",
       "      <td>-94.770566</td>\n",
       "      <td>Galveston</td>\n",
       "      <td>3146</td>\n",
       "      <td>8/25/2017</td>\n",
       "      <td>14:37</td>\n",
       "      <td>8/27/2017</td>\n",
       "      <td>19:03</td>\n",
       "      <td>4.43</td>\n",
       "      <td>18.05</td>\n",
       "      <td>9293.939080</td>\n",
       "      <td>0</td>\n",
       "      <td>5.774986</td>\n",
       "      <td>0.01805</td>\n",
       "    </tr>\n",
       "    <tr>\n",
       "      <th>307</th>\n",
       "      <td>SH-288</td>\n",
       "      <td>29.722212</td>\n",
       "      <td>29.722218</td>\n",
       "      <td>-95.376982</td>\n",
       "      <td>-95.376982</td>\n",
       "      <td>Harris</td>\n",
       "      <td>79</td>\n",
       "      <td>8/26/2017</td>\n",
       "      <td>7:13</td>\n",
       "      <td>8/26/2017</td>\n",
       "      <td>8:32</td>\n",
       "      <td>9.19</td>\n",
       "      <td>33.88</td>\n",
       "      <td>2179.499566</td>\n",
       "      <td>0</td>\n",
       "      <td>1.354278</td>\n",
       "      <td>0.03388</td>\n",
       "    </tr>\n",
       "    <tr>\n",
       "      <th>313</th>\n",
       "      <td>SH-288</td>\n",
       "      <td>29.597388</td>\n",
       "      <td>29.597379</td>\n",
       "      <td>-95.386574</td>\n",
       "      <td>-95.386574</td>\n",
       "      <td>Harris</td>\n",
       "      <td>5783</td>\n",
       "      <td>8/27/2017</td>\n",
       "      <td>7:10</td>\n",
       "      <td>8/31/2017</td>\n",
       "      <td>7:33</td>\n",
       "      <td>16.82</td>\n",
       "      <td>4.76</td>\n",
       "      <td>1037.385053</td>\n",
       "      <td>0</td>\n",
       "      <td>0.644601</td>\n",
       "      <td>0.00476</td>\n",
       "    </tr>\n",
       "    <tr>\n",
       "      <th>314</th>\n",
       "      <td>SH-288</td>\n",
       "      <td>29.597388</td>\n",
       "      <td>29.597379</td>\n",
       "      <td>-95.386574</td>\n",
       "      <td>-95.386574</td>\n",
       "      <td>Harris</td>\n",
       "      <td>5509</td>\n",
       "      <td>8/27/2017</td>\n",
       "      <td>11:39</td>\n",
       "      <td>8/31/2017</td>\n",
       "      <td>7:28</td>\n",
       "      <td>16.82</td>\n",
       "      <td>4.76</td>\n",
       "      <td>1037.385053</td>\n",
       "      <td>0</td>\n",
       "      <td>0.644601</td>\n",
       "      <td>0.00476</td>\n",
       "    </tr>\n",
       "    <tr>\n",
       "      <th>321</th>\n",
       "      <td>SH-288</td>\n",
       "      <td>29.597388</td>\n",
       "      <td>29.597379</td>\n",
       "      <td>-95.386574</td>\n",
       "      <td>-95.386574</td>\n",
       "      <td>Harris</td>\n",
       "      <td>1222</td>\n",
       "      <td>8/28/2017</td>\n",
       "      <td>14:38</td>\n",
       "      <td>8/29/2017</td>\n",
       "      <td>11:00</td>\n",
       "      <td>16.82</td>\n",
       "      <td>4.76</td>\n",
       "      <td>1037.385053</td>\n",
       "      <td>0</td>\n",
       "      <td>0.644601</td>\n",
       "      <td>0.00476</td>\n",
       "    </tr>\n",
       "    <tr>\n",
       "      <th>346</th>\n",
       "      <td>SH-87/ Broadway</td>\n",
       "      <td>29.327268</td>\n",
       "      <td>29.327272</td>\n",
       "      <td>-94.773209</td>\n",
       "      <td>-94.773209</td>\n",
       "      <td>Galveston</td>\n",
       "      <td>6009</td>\n",
       "      <td>8/26/2017</td>\n",
       "      <td>10:56</td>\n",
       "      <td>8/30/2017</td>\n",
       "      <td>15:05</td>\n",
       "      <td>0.36</td>\n",
       "      <td>18.05</td>\n",
       "      <td>9482.157855</td>\n",
       "      <td>0</td>\n",
       "      <td>5.891940</td>\n",
       "      <td>0.01805</td>\n",
       "    </tr>\n",
       "    <tr>\n",
       "      <th>360</th>\n",
       "      <td>SH-99 Lanier Pkwy - West</td>\n",
       "      <td>29.875285</td>\n",
       "      <td>29.875277</td>\n",
       "      <td>-95.756527</td>\n",
       "      <td>-95.756527</td>\n",
       "      <td>Harris</td>\n",
       "      <td>3173</td>\n",
       "      <td>8/27/2017</td>\n",
       "      <td>18:51</td>\n",
       "      <td>8/29/2017</td>\n",
       "      <td>23:44</td>\n",
       "      <td>44.51</td>\n",
       "      <td>32.96</td>\n",
       "      <td>1251.156843</td>\n",
       "      <td>0</td>\n",
       "      <td>0.777433</td>\n",
       "      <td>0.03296</td>\n",
       "    </tr>\n",
       "    <tr>\n",
       "      <th>361</th>\n",
       "      <td>SH-99 Lanier Pkwy - West</td>\n",
       "      <td>29.875285</td>\n",
       "      <td>29.875277</td>\n",
       "      <td>-95.756527</td>\n",
       "      <td>-95.756527</td>\n",
       "      <td>Harris</td>\n",
       "      <td>3171</td>\n",
       "      <td>8/27/2017</td>\n",
       "      <td>18:52</td>\n",
       "      <td>8/29/2017</td>\n",
       "      <td>23:43</td>\n",
       "      <td>44.51</td>\n",
       "      <td>32.96</td>\n",
       "      <td>1251.156843</td>\n",
       "      <td>0</td>\n",
       "      <td>0.777433</td>\n",
       "      <td>0.03296</td>\n",
       "    </tr>\n",
       "    <tr>\n",
       "      <th>439</th>\n",
       "      <td>Tomball Tollway</td>\n",
       "      <td>30.066824</td>\n",
       "      <td>30.066826</td>\n",
       "      <td>-95.623101</td>\n",
       "      <td>-95.623101</td>\n",
       "      <td>Harris</td>\n",
       "      <td>4369</td>\n",
       "      <td>8/27/2017</td>\n",
       "      <td>8:17</td>\n",
       "      <td>8/30/2017</td>\n",
       "      <td>9:06</td>\n",
       "      <td>48.23</td>\n",
       "      <td>26.60</td>\n",
       "      <td>473.736965</td>\n",
       "      <td>0</td>\n",
       "      <td>0.294367</td>\n",
       "      <td>0.02660</td>\n",
       "    </tr>\n",
       "  </tbody>\n",
       "</table>\n",
       "</div>"
      ],
      "text/plain": [
       "                 ROADWAY_NAME  LATITUDE_IB_CW  LATITUDE_OB_CCW  \\\n",
       "57                    FM-1488       30.224398        30.224391   \n",
       "122                IH-10 EAST       29.792342        29.792340   \n",
       "123                IH-10 EAST       29.792342        29.792340   \n",
       "128                IH-10 EAST       29.792342        29.792340   \n",
       "131                IH-10 EAST       29.792342        29.792340   \n",
       "194               IH-45 NORTH       29.789952        29.789958   \n",
       "195               IH-45 NORTH       29.789952        29.789958   \n",
       "198               IH-45 NORTH       29.789952        29.789958   \n",
       "203               IH-45 NORTH       29.789952        29.789958   \n",
       "246                     IH-69       29.494314        29.494311   \n",
       "262      IH-69 Eastex Freeway       29.808311        29.808315   \n",
       "263      IH-69 Eastex Freeway       29.808311        29.808315   \n",
       "268      IH-69 Eastex Freeway       29.813337        29.813333   \n",
       "269      IH-69 Eastex Freeway       29.813337        29.813333   \n",
       "293       SH 275 / HARBORSIDE       29.314355        29.314347   \n",
       "307                    SH-288       29.722212        29.722218   \n",
       "313                    SH-288       29.597388        29.597379   \n",
       "314                    SH-288       29.597388        29.597379   \n",
       "321                    SH-288       29.597388        29.597379   \n",
       "346           SH-87/ Broadway       29.327268        29.327272   \n",
       "360  SH-99 Lanier Pkwy - West       29.875285        29.875277   \n",
       "361  SH-99 Lanier Pkwy - West       29.875285        29.875277   \n",
       "439           Tomball Tollway       30.066824        30.066826   \n",
       "\n",
       "     LONGITUDE_IB_CW  LONGITUDE_OB_CCW COUNTY_NAME  TOTAL_MINUTES ENTER_DATE  \\\n",
       "57        -95.547428        -95.547428  Montgomery           5344  8/27/2017   \n",
       "122       -95.079678        -95.079678      Harris            122  8/26/2017   \n",
       "123       -95.079678        -95.079678      Harris            118  8/26/2017   \n",
       "128       -95.079678        -95.079678      Harris           7138  8/26/2017   \n",
       "131       -95.079678        -95.079678      Harris           6530  8/26/2017   \n",
       "194       -95.371808        -95.371808      Harris            504  8/26/2017   \n",
       "195       -95.371808        -95.371808      Harris            422  8/26/2017   \n",
       "198       -95.371808        -95.371808      Harris           4167  8/26/2017   \n",
       "203       -95.371808        -95.371808      Harris           4124  8/26/2017   \n",
       "246       -95.911601        -95.911601   Fort_Bend           6988  8/25/2017   \n",
       "262       -95.336136        -95.336136      Harris           4156  8/27/2017   \n",
       "263       -95.336136        -95.336136      Harris             31  8/27/2017   \n",
       "268       -95.335191        -95.335191      Harris           2596  8/27/2017   \n",
       "269       -95.335191        -95.335191      Harris           2592  8/27/2017   \n",
       "293       -94.770566        -94.770566   Galveston           3146  8/25/2017   \n",
       "307       -95.376982        -95.376982      Harris             79  8/26/2017   \n",
       "313       -95.386574        -95.386574      Harris           5783  8/27/2017   \n",
       "314       -95.386574        -95.386574      Harris           5509  8/27/2017   \n",
       "321       -95.386574        -95.386574      Harris           1222  8/28/2017   \n",
       "346       -94.773209        -94.773209   Galveston           6009  8/26/2017   \n",
       "360       -95.756527        -95.756527      Harris           3173  8/27/2017   \n",
       "361       -95.756527        -95.756527      Harris           3171  8/27/2017   \n",
       "439       -95.623101        -95.623101      Harris           4369  8/27/2017   \n",
       "\n",
       "    ENTER_TIME CLEAR_DATE CLEAR_TIME  elev_meters  Rain_Totals_mm  \\\n",
       "57       15:23  8/31/2017       8:27        59.92            3.76   \n",
       "122       5:04  8/26/2017       7:06         1.12           45.10   \n",
       "123       5:08  8/26/2017       7:06         1.12           45.10   \n",
       "128      11:43  8/31/2017      10:41         1.12           45.10   \n",
       "131      21:53  8/31/2017      10:43         1.12           45.10   \n",
       "194       7:04  8/26/2017      15:28         9.92           34.00   \n",
       "195       7:56  8/26/2017      14:58         9.92           34.00   \n",
       "198      22:34  8/29/2017      20:01         9.92           34.00   \n",
       "203      23:34  8/29/2017      20:18         9.92           34.00   \n",
       "246      22:22  8/30/2017      18:50        32.25           30.34   \n",
       "262       1:07  8/29/2017      22:23        14.23           36.76   \n",
       "263       1:18  8/27/2017       1:49        14.23           36.76   \n",
       "268      20:36  8/29/2017      15:52        10.10           36.76   \n",
       "269      20:37  8/29/2017      15:49        10.10           36.76   \n",
       "293      14:37  8/27/2017      19:03         4.43           18.05   \n",
       "307       7:13  8/26/2017       8:32         9.19           33.88   \n",
       "313       7:10  8/31/2017       7:33        16.82            4.76   \n",
       "314      11:39  8/31/2017       7:28        16.82            4.76   \n",
       "321      14:38  8/29/2017      11:00        16.82            4.76   \n",
       "346      10:56  8/30/2017      15:05         0.36           18.05   \n",
       "360      18:51  8/29/2017      23:44        44.51           32.96   \n",
       "361      18:52  8/29/2017      23:43        44.51           32.96   \n",
       "439       8:17  8/30/2017       9:06        48.23           26.60   \n",
       "\n",
       "     Rain_Dist_meters  Highway_Inc_Length_m  Rain_Dist_miles  \\\n",
       "57        4837.072434                     0         3.005617   \n",
       "122       3845.178224                     0         2.389283   \n",
       "123       3845.178224                     0         2.389283   \n",
       "128       3845.178224                     0         2.389283   \n",
       "131       3845.178224                     0         2.389283   \n",
       "194        418.303918                     0         0.259922   \n",
       "195        418.303918                     0         0.259922   \n",
       "198        418.303918                     0         0.259922   \n",
       "203        418.303918                     0         0.259922   \n",
       "246      17497.038192                     0        10.872155   \n",
       "262       2244.193210                     0         1.394477   \n",
       "263       2244.193210                     0         1.394477   \n",
       "268       2210.861669                     0         1.373766   \n",
       "269       2210.861669                     0         1.373766   \n",
       "293       9293.939080                     0         5.774986   \n",
       "307       2179.499566                     0         1.354278   \n",
       "313       1037.385053                     0         0.644601   \n",
       "314       1037.385053                     0         0.644601   \n",
       "321       1037.385053                     0         0.644601   \n",
       "346       9482.157855                     0         5.891940   \n",
       "360       1251.156843                     0         0.777433   \n",
       "361       1251.156843                     0         0.777433   \n",
       "439        473.736965                     0         0.294367   \n",
       "\n",
       "     Rain_Totals_meters  \n",
       "57              0.00376  \n",
       "122             0.04510  \n",
       "123             0.04510  \n",
       "128             0.04510  \n",
       "131             0.04510  \n",
       "194             0.03400  \n",
       "195             0.03400  \n",
       "198             0.03400  \n",
       "203             0.03400  \n",
       "246             0.03034  \n",
       "262             0.03676  \n",
       "263             0.03676  \n",
       "268             0.03676  \n",
       "269             0.03676  \n",
       "293             0.01805  \n",
       "307             0.03388  \n",
       "313             0.00476  \n",
       "314             0.00476  \n",
       "321             0.00476  \n",
       "346             0.01805  \n",
       "360             0.03296  \n",
       "361             0.03296  \n",
       "439             0.02660  "
      ]
     },
     "execution_count": 107,
     "metadata": {},
     "output_type": "execute_result"
    }
   ],
   "source": [
    "data[data['Highway_Inc_Length_m'] < 1]"
   ]
  },
  {
   "cell_type": "code",
   "execution_count": 108,
   "metadata": {},
   "outputs": [],
   "source": [
    "#replace the values less than 1\n",
    "data['Highway_Inc_Length_m'].replace({0: 1}, inplace=True)\n",
    "data['TOTAL_MINUTES'].replace({0: 1}, inplace=True)\n",
    "data['TOTAL_MINUTES'].replace({-1: 1}, inplace=True)"
   ]
  },
  {
   "cell_type": "code",
   "execution_count": 109,
   "metadata": {},
   "outputs": [
    {
     "data": {
      "text/plain": [
       "(468, 17)"
      ]
     },
     "execution_count": 109,
     "metadata": {},
     "output_type": "execute_result"
    }
   ],
   "source": [
    "data.shape"
   ]
  },
  {
   "cell_type": "code",
   "execution_count": 110,
   "metadata": {},
   "outputs": [],
   "source": [
    "data['Ratio_dur_len'] = (data['TOTAL_MINUTES']/data['Highway_Inc_Length_m']).astype(int)"
   ]
  },
  {
   "cell_type": "code",
   "execution_count": 70,
   "metadata": {
    "collapsed": true
   },
   "outputs": [
    {
     "name": "stdout",
     "output_type": "stream",
     "text": [
      "Random Forest: Target Variable - Ratio_dur_len; Predictor Variables \n",
      " - Elev_meters, Rain_Totals_meters, Rain_Dist_meters, Highway_Inc_Length_m\n",
      "MSE:  16605.96134751773\n",
      "MAE:  444.3191489361702\n",
      "R2:  0.790481855274514\n",
      "Max Error:  4892\n",
      "Explained Var:  0.7936478526727342\n"
     ]
    }
   ],
   "source": [
    "from sklearn.model_selection import train_test_split\n",
    "\n",
    "X=data[['elev_meters', 'Rain_Dist_meters', 'TOTAL_MINUTES', 'Rain_Totals_meters', 'Highway_Inc_Length_m']]  # Features\n",
    "y=data['Ratio_dur_len']  # Labels\n",
    "\n",
    "# Split dataset into training set and test set\n",
    "X_train, X_test, y_train, y_test = train_test_split(X, y, test_size=0.3) # 70% training and 30% test\n",
    "\n",
    "#Import Random Forest Model\n",
    "from sklearn.ensemble import RandomForestClassifier\n",
    "#Create a Gaussian Classifier\n",
    "clf=RandomForestClassifier(n_estimators=100)\n",
    "\n",
    "#Train the model using the training sets y_pred=clf.predict(X_test)\n",
    "clf.fit(X_train,y_train)\n",
    "\n",
    "y_pred=clf.predict(X_test)\n",
    "\n",
    "print(\"Random Forest: Target Variable - Ratio_dur_len; Predictor Variables \\n - Elev_meters, Rain_Totals_meters, Rain_Dist_meters, Highway_Inc_Length_m\")\n",
    "\n",
    "\n",
    "#Import scikit-learn metrics module for accuracy calculation\n",
    "from sklearn import metrics\n",
    "print(\"MSE: \" , (metrics.mean_squared_error(y_test, y_pred))/60)\n",
    "print(\"MAE: \" , metrics.mean_absolute_error(y_test, y_pred))\n",
    "print(\"R2: \" , metrics.r2_score(y_test, y_pred))\n",
    "print(\"Max Error: \" , metrics.max_error(y_test, y_pred))\n",
    "print(\"Explained Var: \" , metrics.explained_variance_score(y_test, y_pred))"
   ]
  },
  {
   "cell_type": "code",
   "execution_count": 71,
   "metadata": {
    "collapsed": true
   },
   "outputs": [
    {
     "data": {
      "text/plain": [
       "RandomForestClassifier(bootstrap=True, class_weight=None, criterion='gini',\n",
       "                       max_depth=None, max_features='auto', max_leaf_nodes=None,\n",
       "                       min_impurity_decrease=0.0, min_impurity_split=None,\n",
       "                       min_samples_leaf=1, min_samples_split=2,\n",
       "                       min_weight_fraction_leaf=0.0, n_estimators=100,\n",
       "                       n_jobs=None, oob_score=False, random_state=None,\n",
       "                       verbose=0, warm_start=False)"
      ]
     },
     "execution_count": 71,
     "metadata": {},
     "output_type": "execute_result"
    }
   ],
   "source": [
    "from sklearn.ensemble import RandomForestClassifier\n",
    "\n",
    "#Create a Gaussian Classifier\n",
    "clf=RandomForestClassifier(n_estimators=100)\n",
    "\n",
    "#Train the model using the training sets y_pred=clf.predict(X_test)\n",
    "clf.fit(X_train,y_train)"
   ]
  },
  {
   "cell_type": "code",
   "execution_count": 72,
   "metadata": {
    "collapsed": true
   },
   "outputs": [
    {
     "data": {
      "text/plain": [
       "TOTAL_MINUTES           0.307232\n",
       "elev_meters             0.208853\n",
       "Rain_Dist_meters        0.202279\n",
       "Rain_Totals_meters      0.182665\n",
       "Highway_Inc_Length_m    0.098971\n",
       "dtype: float64"
      ]
     },
     "execution_count": 72,
     "metadata": {},
     "output_type": "execute_result"
    }
   ],
   "source": [
    "import pandas as pd\n",
    "feature_imp = pd.Series(clf.feature_importances_,index=['elev_meters', 'Rain_Dist_meters', 'TOTAL_MINUTES', 'Rain_Totals_meters', 'Highway_Inc_Length_m']).sort_values(ascending=False)\n",
    "feature_imp"
   ]
  },
  {
   "cell_type": "code",
   "execution_count": 73,
   "metadata": {
    "collapsed": true
   },
   "outputs": [
    {
     "name": "stderr",
     "output_type": "stream",
     "text": [
      "No handles with labels found to put in legend.\n"
     ]
    },
    {
     "data": {
      "image/png": "[encoded data removed]",
      "text/plain": [
       "<Figure size 432x288 with 1 Axes>"
      ]
     },
     "metadata": {
      "needs_background": "light"
     },
     "output_type": "display_data"
    }
   ],
   "source": [
    "import matplotlib.pyplot as plt\n",
    "import seaborn as sns\n",
    "%matplotlib inline\n",
    "# Creating a bar plot\n",
    "sns.barplot(x=feature_imp, y=feature_imp.index)\n",
    "# Add labels to your graph\n",
    "plt.xlabel = 'Feature Importance Score'\n",
    "plt.ylabel= 'Features'\n",
    "plt.title = \"Visualizing Important Features\" \n",
    "plt.legend()\n",
    "plt.show()"
   ]
  },
  {
   "cell_type": "code",
   "execution_count": 111,
   "metadata": {},
   "outputs": [],
   "source": [
    "def RunRandomForest(data, predictors, target):\n",
    "    ########## Import train_test_split function\n",
    "    from sklearn.model_selection import train_test_split\n",
    "    # Split dataset into features and labels\n",
    "    X=data[predictors]  # Removed feature \"sepal length\"\n",
    "    y=data[target]                                       \n",
    "    # Split dataset into training set and test set\n",
    "    X_train, X_test, y_train, y_test = train_test_split(X, y, test_size=0.70, random_state=5) # 70% training and 30% test\n",
    "\n",
    "    from sklearn.ensemble import RandomForestClassifier\n",
    "    ######### Create a Gaussian Classifier\n",
    "    clf=RandomForestClassifier(n_estimators=100)\n",
    "    ######### Train the model using the training sets y_pred=clf.predict(X_test)\n",
    "    clf.fit(X_train,y_train)\n",
    "\n",
    "    ######### prediction on test set\n",
    "    y_pred=clf.predict(X_test)\n",
    "\n",
    "    #print(\"Random Forest: Target Variable - TOTAL_MINUTES; Predictor Variables - \\n\", predictors)\n",
    "\n",
    "    #Import scikit-learn metrics module for accuracy calculation\n",
    "    from sklearn import metrics\n",
    "    print(\"MSE: \" , (metrics.mean_squared_error(y_test, y_pred))/60)\n",
    "    print(\"MAE: \" , metrics.mean_absolute_error(y_test, y_pred))\n",
    "    print(\"R2: \" , metrics.r2_score(y_test, y_pred))\n",
    "    print(\"Max Error: \" , metrics.max_error(y_test, y_pred))\n",
    "    print(\"Explained Var: \" , metrics.explained_variance_score(y_test, y_pred))"
   ]
  },
  {
   "cell_type": "code",
   "execution_count": 113,
   "metadata": {},
   "outputs": [],
   "source": [
    "def RunModels(data, predictors, target):\n",
    "    print(\"TARGET VARIABLE - \", target)\n",
    "    print(\"PREDICTOR VARIABLES - \", predictors)\n",
    "    print(\"Random Forest - \")\n",
    "    RunRandomForest(data, predictors, target)\n",
    "    print(\"\")"
   ]
  },
  {
   "cell_type": "code",
   "execution_count": 89,
   "metadata": {
    "collapsed": true
   },
   "outputs": [
    {
     "name": "stdout",
     "output_type": "stream",
     "text": [
      "TARGET VARIABLE -  Highway_Inc_Length_m\n",
      "PREDICTOR VARIABLES -  ['TOTAL_MINUTES', 'Rain_Totals_meters', 'Rain_Dist_meters', 'elev_meters']\n",
      "Random Forest - \n",
      "MSE:  32.74021406727829\n",
      "MAE:  12.021406727828746\n",
      "R2:  -0.05964848312399984\n",
      "Max Error:  687\n",
      "Explained Var:  -0.03124124401344175\n",
      "\n",
      "TARGET VARIABLE -  Highway_Inc_Length_m\n",
      "PREDICTOR VARIABLES -  ['Rain_Totals_meters', 'Rain_Dist_meters', 'elev_meters']\n",
      "Random Forest - \n",
      "MSE:  30.086493374108052\n",
      "MAE:  10.62691131498471\n",
      "R2:  0.02624011556915995\n",
      "Max Error:  669\n",
      "Explained Var:  0.05341600903304278\n",
      "\n",
      "TARGET VARIABLE -  Highway_Inc_Length_m\n",
      "PREDICTOR VARIABLES -  ['Rain_Dist_meters', 'Rain_Totals_meters']\n",
      "Random Forest - \n",
      "MSE:  30.400713557594294\n",
      "MAE:  11.113149847094801\n",
      "R2:  0.016070269394241055\n",
      "Max Error:  669\n",
      "Explained Var:  0.037270533561891805\n",
      "\n",
      "TARGET VARIABLE -  Highway_Inc_Length_m\n",
      "PREDICTOR VARIABLES -  ['Rain_Totals_meters', 'elev_meters']\n",
      "Random Forest - \n",
      "MSE:  33.27543323139653\n",
      "MAE:  12.15290519877676\n",
      "R2:  -0.0769710386281075\n",
      "Max Error:  669\n",
      "Explained Var:  -0.06691323982199893\n",
      "\n",
      "TARGET VARIABLE -  Highway_Inc_Length_m\n",
      "PREDICTOR VARIABLES -  ['TOTAL_MINUTES', 'elev_meters']\n",
      "Random Forest - \n",
      "MSE:  34.41605504587156\n",
      "MAE:  14.211009174311927\n",
      "R2:  -0.11388766272356743\n",
      "Max Error:  687\n",
      "Explained Var:  -0.09102194313353196\n",
      "\n"
     ]
    }
   ],
   "source": [
    "predictors = ['TOTAL_MINUTES', 'Rain_Totals_meters', 'Rain_Dist_meters', 'elev_meters']\n",
    "target = 'Highway_Inc_Length_m'\n",
    "RunModels(data, predictors, target)\n",
    "\n",
    "predictors = ['Rain_Totals_meters', 'Rain_Dist_meters', 'elev_meters']\n",
    "target = 'Highway_Inc_Length_m'\n",
    "RunModels(data, predictors, target)\n",
    "\n",
    "predictors = ['Rain_Dist_meters', 'Rain_Totals_meters']\n",
    "target = 'Highway_Inc_Length_m'\n",
    "RunModels(data, predictors, target)\n",
    "\n",
    "predictors = ['Rain_Totals_meters', 'elev_meters']\n",
    "target = 'Highway_Inc_Length_m'\n",
    "RunModels(data, predictors, target)\n",
    "\n",
    "predictors = ['TOTAL_MINUTES', 'elev_meters']\n",
    "target = 'Highway_Inc_Length_m'\n",
    "RunModels(data, predictors, target)"
   ]
  },
  {
   "cell_type": "code",
   "execution_count": 90,
   "metadata": {
    "collapsed": true
   },
   "outputs": [
    {
     "name": "stdout",
     "output_type": "stream",
     "text": [
      "TARGET VARIABLE -  Ratio_dur_len\n",
      "PREDICTOR VARIABLES -  ['TOTAL_MINUTES', 'Rain_Totals_meters', 'Rain_Dist_meters', 'elev_meters', 'Highway_Inc_Length_m']\n",
      "Random Forest - \n",
      "MSE:  30074.377319062183\n",
      "MAE:  644.5168195718654\n",
      "R2:  0.6078827104632676\n",
      "Max Error:  6547\n",
      "Explained Var:  0.6087934061463662\n",
      "\n",
      "TARGET VARIABLE -  Ratio_dur_len\n",
      "PREDICTOR VARIABLES -  ['Rain_Totals_meters', 'Rain_Dist_meters', 'elev_meters', 'Highway_Inc_Length_m']\n",
      "Random Forest - \n",
      "MSE:  67350.71656472987\n",
      "MAE:  1237.1467889908256\n",
      "R2:  0.12186443138826342\n",
      "Max Error:  7020\n",
      "Explained Var:  0.1287606208501766\n",
      "\n",
      "TARGET VARIABLE -  Ratio_dur_len\n",
      "PREDICTOR VARIABLES -  ['Rain_Dist_meters', 'Rain_Totals_meters', 'Highway_Inc_Length_m']\n",
      "Random Forest - \n",
      "MSE:  56071.277573904175\n",
      "MAE:  1083.4311926605506\n",
      "R2:  0.26892859160860294\n",
      "Max Error:  6355\n",
      "Explained Var:  0.2742343369130863\n",
      "\n",
      "TARGET VARIABLE -  Ratio_dur_len\n",
      "PREDICTOR VARIABLES -  ['Rain_Totals_meters', 'elev_meters', 'Highway_Inc_Length_m']\n",
      "Random Forest - \n",
      "MSE:  53618.8376656473\n",
      "MAE:  1048.755351681957\n",
      "R2:  0.30090411945994355\n",
      "Max Error:  7161\n",
      "Explained Var:  0.31791435602257223\n",
      "\n",
      "TARGET VARIABLE -  Ratio_dur_len\n",
      "PREDICTOR VARIABLES -  ['TOTAL_MINUTES', 'elev_meters', 'Highway_Inc_Length_m']\n",
      "Random Forest - \n",
      "MSE:  2947.4296126401628\n",
      "MAE:  196.0948012232416\n",
      "R2:  0.9615706719860758\n",
      "Max Error:  3544\n",
      "Explained Var:  0.961942858605574\n",
      "\n"
     ]
    }
   ],
   "source": [
    "predictors = ['TOTAL_MINUTES', 'Rain_Totals_meters', 'Rain_Dist_meters', 'elev_meters', 'Highway_Inc_Length_m']\n",
    "target = 'Ratio_dur_len'\n",
    "RunModels(data, predictors, target)\n",
    "\n",
    "predictors = ['Rain_Totals_meters', 'Rain_Dist_meters', 'elev_meters', 'Highway_Inc_Length_m']\n",
    "target = 'Ratio_dur_len'\n",
    "RunModels(data, predictors, target)\n",
    "\n",
    "predictors = ['Rain_Dist_meters', 'Rain_Totals_meters', 'Highway_Inc_Length_m']\n",
    "target = 'Ratio_dur_len'\n",
    "RunModels(data, predictors, target)\n",
    "\n",
    "predictors = ['Rain_Totals_meters', 'elev_meters', 'Highway_Inc_Length_m']\n",
    "target = 'Ratio_dur_len'\n",
    "RunModels(data, predictors, target)\n",
    "\n",
    "predictors = ['TOTAL_MINUTES', 'elev_meters', 'Highway_Inc_Length_m']\n",
    "target = 'Ratio_dur_len'\n",
    "RunModels(data, predictors, target)"
   ]
  },
  {
   "cell_type": "code",
   "execution_count": 114,
   "metadata": {},
   "outputs": [
    {
     "name": "stdout",
     "output_type": "stream",
     "text": [
      "TARGET VARIABLE -  Ratio_dur_len\n",
      "PREDICTOR VARIABLES -  ['Rain_Totals_meters', 'elev_meters']\n",
      "Random Forest - \n",
      "MSE:  110033.42184959349\n",
      "MAE:  1753.621951219512\n",
      "R2:  -0.4396387288764767\n",
      "Max Error:  6740\n",
      "Explained Var:  -0.41774708428427254\n",
      "\n",
      "TARGET VARIABLE -  Highway_Inc_Length_m\n",
      "PREDICTOR VARIABLES -  ['Rain_Totals_meters', 'elev_meters', 'TOTAL_MINUTES']\n",
      "Random Forest - \n",
      "MSE:  32.78160569105691\n",
      "MAE:  12.518292682926829\n",
      "R2:  -0.06304434744538767\n",
      "Max Error:  687\n",
      "Explained Var:  -0.03674564854109086\n",
      "\n",
      "TARGET VARIABLE -  TOTAL_MINUTES\n",
      "PREDICTOR VARIABLES -  ['Rain_Totals_meters', 'elev_meters', 'Highway_Inc_Length_m']\n",
      "Random Forest - \n",
      "MSE:  95122.26783536586\n",
      "MAE:  1744.8262195121952\n",
      "R2:  -0.7087910970499254\n",
      "Max Error:  7161\n",
      "Explained Var:  -0.6201086221388867\n",
      "\n"
     ]
    }
   ],
   "source": [
    "predictors = ['Rain_Totals_meters', 'elev_meters']\n",
    "target = 'Ratio_dur_len'\n",
    "RunModels(data, predictors, target)\n",
    "\n",
    "predictors = ['Rain_Totals_meters', 'elev_meters', 'TOTAL_MINUTES']\n",
    "target = 'Highway_Inc_Length_m'\n",
    "RunModels(data, predictors, target)\n",
    "\n",
    "predictors = ['Rain_Totals_meters', 'elev_meters', 'Highway_Inc_Length_m']\n",
    "target = 'TOTAL_MINUTES'\n",
    "RunModels(data, predictors, target)"
   ]
  },
  {
   "cell_type": "code",
   "execution_count": null,
   "metadata": {},
   "outputs": [],
   "source": []
  }
 ],
 "metadata": {
  "kernelspec": {
   "display_name": "Python 3",
   "language": "python",
   "name": "python3"
  },
  "language_info": {
   "codemirror_mode": {
    "name": "ipython",
    "version": 3
   },
   "file_extension": ".py",
   "mimetype": "text/x-python",
   "name": "python",
   "nbconvert_exporter": "python",
   "pygments_lexer": "ipython3",
   "version": "3.7.3"
  }
 },
 "nbformat": 4,
 "nbformat_minor": 2
}
