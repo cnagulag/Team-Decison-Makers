{
 "cells": [
  {
   "cell_type": "code",
   "execution_count": null,
   "metadata": {},
   "outputs": [],
   "source": [
    "'''\n",
    "Author: U. Saxena\n",
    "Date: 09/12/2021\n",
    "Team Decision Makers\n",
    "DAEN 690 - modeling post-disaster infrastructure damage & restoration\n",
    "The goal of this file is :\n",
    "1. to provide basic analysis on dataset\n",
    "2. Read the existing file\n",
    "3. Split the datasets into managable files\n",
    "'''"
   ]
  },
  {
   "cell_type": "code",
   "execution_count": null,
   "metadata": {},
   "outputs": [],
   "source": [
    "import pandas as pd;"
   ]
  },
  {
   "cell_type": "code",
   "execution_count": null,
   "metadata": {},
   "outputs": [],
   "source": [
    "def DataInformation(filepath):\n",
    "    data = pd.read_csv(filepath)\n",
    "    print(\"Shape of the data\")\n",
    "    print(data.shape)\n",
    "    print(\"Data Summary\")\n",
    "    print(data.describe())\n",
    "    print(\"Data Info\")\n",
    "    print(data.info())"
   ]
  },
  {
   "cell_type": "code",
   "execution_count": null,
   "metadata": {
    "scrolled": true
   },
   "outputs": [],
   "source": [
    "DataInformation(\"harvey_highwater_incidents.csv\")"
   ]
  },
  {
   "cell_type": "code",
   "execution_count": null,
   "metadata": {},
   "outputs": [],
   "source": [
    "DataInformation(\"Hurricane_Harvey_Incident_Info.csv\")"
   ]
  },
  {
   "cell_type": "code",
   "execution_count": null,
   "metadata": {},
   "outputs": [],
   "source": [
    "DataInformation(\"Hurricane_Harvey_Incident_Lanes.csv\")"
   ]
  },
  {
   "cell_type": "code",
   "execution_count": null,
   "metadata": {},
   "outputs": [],
   "source": [
    "DataInformation(\"Hurricane_Harvey_Incident_ResponseBy.csv\")"
   ]
  },
  {
   "cell_type": "code",
   "execution_count": null,
   "metadata": {},
   "outputs": [],
   "source": [
    "DataInformation(\"Hurricane_Harvey_DateTimes.csv\")"
   ]
  },
  {
   "cell_type": "code",
   "execution_count": null,
   "metadata": {},
   "outputs": [],
   "source": [
    "DataInformation(\"Hurricane_Harvey_Incident_Type.csv\")"
   ]
  },
  {
   "cell_type": "code",
   "execution_count": null,
   "metadata": {},
   "outputs": [],
   "source": [
    "DataInformation(\"Hurricane_Harvey_Incident_VerifiedBy.csv\")"
   ]
  },
  {
   "cell_type": "code",
   "execution_count": null,
   "metadata": {},
   "outputs": [],
   "source": [
    "DataInformation(\"Hurricane_Harvey_MapData.csv\")"
   ]
  },
  {
   "cell_type": "code",
   "execution_count": null,
   "metadata": {},
   "outputs": [],
   "source": [
    "DataInformation(\"Hurricane_Harvey_WeatherConditions.csv\")"
   ]
  },
  {
   "cell_type": "code",
   "execution_count": null,
   "metadata": {},
   "outputs": [],
   "source": [
    "#read the data\n",
    "data = pd.read_csv(\"harvey_highwater_incidents.csv\")"
   ]
  },
  {
   "cell_type": "code",
   "execution_count": null,
   "metadata": {},
   "outputs": [],
   "source": [
    "'''\n",
    "data description\n",
    "\n",
    "TXDOT_INCIDENT_ID - ID to identify each highway incident\n",
    "ROADWAY_NAME - The name of the highway/interstate where the incident occured; 66 unique values\n",
    "TXDOT_ROADWAY_DIRECTION - has the following values Southbound, Northbound,Eastbound, Westbound\n",
    "TXDOT_CROSS_STREET_QUAL - has the following values 'At', 'Before', 'After'\n",
    "CROSS_STREET_NAME - different street names\n",
    "LATITUDE_IB_CW, LONGITUDE_IB_CW - latitude / longitude International Boundary Water Commisionary \n",
    "LATITUDE_OB_CCW, LONGITUDE_OB_CCW - \n",
    "COUNTY_NAME - list of counties has the following values: 'Harris', 'Waller', 'Fort_Bend', \n",
    "        'Brazoria', 'Montgomery','Galveston', 'Austin', 'Chambers'\n",
    "TXDOT_INCIDENT_STATUS - has the state of cleared\n",
    "\n",
    "TYPE_HAZMAT_SPILL, TYPE_HEAVY_TRUCK, TYPE_ICE_ON_ROADWAY, TYPE_LOST_LOAD, TYPE_STALL, TYPE_VEHICLE_FIRE, TYPE_BUS,   - no unique values; all zeros\n",
    "TYPE_HIGH_WATER, MAP_DISPATCHED,  - no unique values; all ones\n",
    "TYPE_ROAD_DEBRIS, TYPE_OTHER, TYPE_ACCIDENT,  - some unique values; two ones\n",
    "TYPE_CONSTRUCTION - a lot of unique values, 17\n",
    "\n",
    "MAP_DISPATCHED - what does this mean?\n",
    "DETECTED_BY - what do the values signify? \n",
    "\n",
    "WEATHER_CONDITIONS - values 0 and 1 - does it mean good and bad?\n",
    "WEATHER_RAIN - values 0 and 1 - whether it is raining or not.\n",
    "WEATHER_SNOW_ICE, WEATHER_HAIL, WEATHER_FOG, WEATHER_DUST, WEATHER_SMOKE, WEATHER_OTHER,  - all zeros; whether it is snowing or not.\n",
    "WEATHER_HIGH_WIND - Values 0 and 1; whether there was high wind or not.\n",
    "WEATHER_OTHER_TEXT - Will be removed as we have no values at all.\n",
    "\n",
    "VISIBILITY - Values 0 and 1; what does this mean?? Visibility for the driver of vehicle?\n",
    "\n",
    "VERIFIED_CCTV, VERIFIED_MAP, VERIFIED_POLICE_CITY, VERIFIED_POLICE_COUNTY, VERIFIED_POLICE_STATE, VERIFIED_OTHER,  : Values 0 and 1; does this mean the incident was verified on CCTV?\n",
    "VERIFIED_COMMERCIAL, VERIFIED_METRO, VERIFIED_POLICE_METRO,  - All zeros; \n",
    "\n",
    "RESPONSE_CITY, RESPONSE_CORONER, RESPONSE_EMS, RESPONSE_HAZMAT, RESPONSE_HCFCD, RESPONSE_METRO, RESPONSE_POLICE_METRO,   - All zeros; \n",
    "RESPONSE_COUNTY, RESPONSE_MAP, RESPONSE_POLICE_CITY, RESPONSE_POLICE_COUNTY, RESPONSE_POLICE_STATE, RESPONSE_TXDOT, RESPONSE_WRECKER,   - Values: 0 and 1; \n",
    "RESPONSE_FIREDEPT - has one 1; probs an outlier;\n",
    "\n",
    "VEHICLES_INVOLVED - has values 0, 1, 2\n",
    "\n",
    "TXDOT_LANES_AFFECTED - has two values: 'Alternate Lanes', 'All Main Lanes'; shows which lanes were affected. \n",
    "MAINLANES_BLOCKED - has values 0,1,2,3,4\n",
    "FRONTAGE_LANES_BLOCKED has values 0,1,2,3,4\n",
    "RAMP_LANES_BLOCKED - has values 0,1,2\n",
    "HOV_LANES_BLOCKED has values 0 and 1\n",
    "SHOULDER_LANES_BLOCKED - has 0,1,2\n",
    "\n",
    "TIME_ENTERED - time entered in the system?\n",
    "DETECTION_DATE_TIME - time the incident was detected\n",
    "VERIFICATION_DATE_TIME - time the incident was verified\n",
    "CLEARED_DATE_TIME - time the incident was cleared\n",
    "TOTAL_MINUTES - total minutes from the cleared time to time entered\n",
    "'''"
   ]
  },
  {
   "cell_type": "code",
   "execution_count": null,
   "metadata": {},
   "outputs": [],
   "source": [
    "#VALUES OF COLUMN\n",
    "#get the unique values of a column\n",
    "#gets the count of total unique values\n",
    "len(pd.unique(data['CROSS_STREET_NAME']))\n",
    "data['ROADWAY_NAME'].unique()\n",
    "data['VEHICLES_INVOLVED'].values\n",
    "data['WEATHER_RAIN'].value_counts()"
   ]
  },
  {
   "cell_type": "code",
   "execution_count": null,
   "metadata": {},
   "outputs": [],
   "source": [
    "#SPLITTING COLUMNS\n",
    "#rename old columns, split for Times at space. Adding new columns to the db\n",
    "data.head()"
   ]
  },
  {
   "cell_type": "code",
   "execution_count": null,
   "metadata": {},
   "outputs": [],
   "source": [
    "#rename old cols\n",
    "data = data.rename(columns={\"TIME_ENTERED\": \"TIME_ENTERED_OLD\"})\n",
    "data = data.rename(columns={\"DETECTION_DATE_TIME\": \"DETECTION_DATE_TIME_OLD\"})\n",
    "data = data.rename(columns={\"VERIFICATION_DATE_TIME\": \"VERIFICATION_DATE_TIME_OLD\"})\n",
    "data = data.rename(columns={\"CLEARED_DATE_TIME\": \"CLEARED_DATE_TIME_OLD\"})"
   ]
  },
  {
   "cell_type": "code",
   "execution_count": null,
   "metadata": {},
   "outputs": [],
   "source": [
    "#TIME_ENTERED_OLD\n",
    "split_data = data[\"TIME_ENTERED_OLD\"].str.split(\" \")\n",
    "dataTemp = split_data.to_list()\n",
    "names = [\"DATE_ENTERED\", \"TIME_ENTERED\"]\n",
    "new_df = pd.DataFrame(dataTemp, columns=names)"
   ]
  },
  {
   "cell_type": "code",
   "execution_count": null,
   "metadata": {},
   "outputs": [],
   "source": [
    "#add the cols\n",
    "data[\"DATE_ENTERED\"] = new_df[\"DATE_ENTERED\"];\n",
    "data[\"TIME_ENTERED\"] = new_df[\"TIME_ENTERED\"];"
   ]
  },
  {
   "cell_type": "code",
   "execution_count": null,
   "metadata": {},
   "outputs": [],
   "source": [
    "#DETECTION_DATE_TIME_OLD\n",
    "split_data = data[\"DETECTION_DATE_TIME_OLD\"].str.split(\" \")\n",
    "dataTemp = split_data.to_list()\n",
    "names = [\"DETECTION_DATE\", \"DETECTION_TIME\"]\n",
    "new_df = pd.DataFrame(dataTemp, columns=names)"
   ]
  },
  {
   "cell_type": "code",
   "execution_count": null,
   "metadata": {},
   "outputs": [],
   "source": [
    "#add the cols\n",
    "data[\"DETECTION_DATE\"] = new_df[\"DETECTION_DATE\"];\n",
    "data[\"DETECTION_TIME\"] = new_df[\"DETECTION_TIME\"];"
   ]
  },
  {
   "cell_type": "code",
   "execution_count": null,
   "metadata": {},
   "outputs": [],
   "source": [
    "#VERIFICATION_DATE_TIME_OLD\n",
    "split_data = data[\"VERIFICATION_DATE_TIME_OLD\"].str.split(\" \")\n",
    "dataTemp = split_data.to_list()\n",
    "names = [\"VERIFICATION_DATE\", \"VERIFICATION_TIME\"]\n",
    "new_df = pd.DataFrame(dataTemp, columns=names)"
   ]
  },
  {
   "cell_type": "code",
   "execution_count": null,
   "metadata": {},
   "outputs": [],
   "source": [
    "#add the cols\n",
    "data[\"VERIFICATION_DATE\"] = new_df[\"VERIFICATION_DATE\"];\n",
    "data[\"VERIFICATION_TIME\"] = new_df[\"VERIFICATION_TIME\"];"
   ]
  },
  {
   "cell_type": "code",
   "execution_count": null,
   "metadata": {},
   "outputs": [],
   "source": [
    "#CLEARED_DATE_TIME_OLD\n",
    "split_data = data[\"CLEARED_DATE_TIME_OLD\"].str.split(\" \")\n",
    "dataTemp = split_data.to_list()\n",
    "names = [\"CLEARED_DATE\", \"CLEARED_TIME\"]\n",
    "new_df = pd.DataFrame(dataTemp, columns=names)"
   ]
  },
  {
   "cell_type": "code",
   "execution_count": null,
   "metadata": {},
   "outputs": [],
   "source": [
    "#add the cols\n",
    "data[\"CLEARED_DATE\"] = new_df[\"CLEARED_DATE\"];\n",
    "data[\"CLEARED_TIME\"] = new_df[\"CLEARED_TIME\"];"
   ]
  },
  {
   "cell_type": "code",
   "execution_count": null,
   "metadata": {},
   "outputs": [],
   "source": [
    "#SPLIT THE DATASETS - \n",
    "'''\n",
    "categorized by:\n",
    "times, \n",
    "verified by, \n",
    "response by, \n",
    "incident type, \n",
    "incident info, \n",
    "map info, \n",
    "weather condition, \n",
    "lanes,\n",
    "ORG csv\n",
    "'''"
   ]
  },
  {
   "cell_type": "code",
   "execution_count": null,
   "metadata": {},
   "outputs": [],
   "source": [
    "df = data[['TIME_ENTERED_OLD', 'TIME_ENTERED', 'DATE_ENTERED', \n",
    "           'DETECTION_DATE_TIME_OLD', 'DETECTION_TIME', 'DETECTION_DATE', \n",
    "           'VERIFICATION_DATE_TIME_OLD', 'VERIFICATION_TIME', 'VERIFICATION_DATE', \n",
    "           'CLEARED_DATE_TIME_OLD', 'CLEARED_TIME', 'CLEARED_DATE',\n",
    "          'TOTAL_MINUTES']].copy()\n"
   ]
  },
  {
   "cell_type": "code",
   "execution_count": null,
   "metadata": {},
   "outputs": [],
   "source": [
    "df.to_csv('Hurricane_Harvey_DateTimes.csv', index=True, header=True)"
   ]
  },
  {
   "cell_type": "code",
   "execution_count": null,
   "metadata": {},
   "outputs": [],
   "source": [
    "df1 = data[['TYPE_HAZMAT_SPILL',\n",
    "'TYPE_HEAVY_TRUCK',\n",
    "'TYPE_HIGH_WATER',\n",
    "'TYPE_ICE_ON_ROADWAY',\n",
    "'TYPE_LOST_LOAD',\n",
    "'TYPE_ROAD_DEBRIS',\n",
    "'TYPE_STALL',\n",
    "'TYPE_VEHICLE_FIRE',\n",
    "'TYPE_OTHER',\n",
    "'TYPE_BUS',\n",
    "'TYPE_ACCIDENT',\n",
    "'TYPE_CONSTRUCTION']]"
   ]
  },
  {
   "cell_type": "code",
   "execution_count": null,
   "metadata": {},
   "outputs": [],
   "source": [
    "df1.to_csv(\"Hurricane_Harvey_Incident_Type.csv\", index=True, header=True)"
   ]
  },
  {
   "cell_type": "code",
   "execution_count": null,
   "metadata": {},
   "outputs": [],
   "source": [
    "df2 = data[['WEATHER_CONDITIONS',\n",
    "'WEATHER_RAIN',\n",
    "'WEATHER_SNOW_ICE',\n",
    "'WEATHER_HAIL',\n",
    "'WEATHER_FOG',\n",
    "'WEATHER_HIGH_WIND',\n",
    "'WEATHER_DUST',\n",
    "'WEATHER_SMOKE',\n",
    "'WEATHER_OTHER',\n",
    "'WEATHER_OTHER_TEXT']]"
   ]
  },
  {
   "cell_type": "code",
   "execution_count": null,
   "metadata": {},
   "outputs": [],
   "source": [
    "df2.to_csv(\"Hurricane_Harvey_WeatherConditions.csv\", index=True, header=True)"
   ]
  },
  {
   "cell_type": "code",
   "execution_count": null,
   "metadata": {},
   "outputs": [],
   "source": [
    "df3 = data[['VERIFIED_CCTV',\n",
    "'VERIFIED_COMMERCIAL',\n",
    "'VERIFIED_MAP',\n",
    "'VERIFIED_METRO',\n",
    "'VERIFIED_POLICE_CITY',\n",
    "'VERIFIED_POLICE_COUNTY',\n",
    "'VERIFIED_POLICE_METRO',\n",
    "'VERIFIED_POLICE_STATE',\n",
    "'VERIFIED_OTHER']]"
   ]
  },
  {
   "cell_type": "code",
   "execution_count": null,
   "metadata": {},
   "outputs": [],
   "source": [
    "df3.to_csv(\"Hurricane_Harvey_Incident_VerifiedBy.csv\", index=True, header=True)"
   ]
  },
  {
   "cell_type": "code",
   "execution_count": null,
   "metadata": {},
   "outputs": [],
   "source": [
    "df4 = data[['RESPONSE_CITY',\n",
    "'RESPONSE_CORONER',\n",
    "'RESPONSE_COUNTY',\n",
    "'RESPONSE_EMS',\n",
    "'RESPONSE_FIREDEPT',\n",
    "'RESPONSE_HAZMAT',\n",
    "'RESPONSE_HCFCD',\n",
    "'RESPONSE_MAP',\n",
    "'RESPONSE_METRO',\n",
    "'RESPONSE_POLICE_CITY',\n",
    "'RESPONSE_POLICE_COUNTY',\n",
    "'RESPONSE_POLICE_METRO',\n",
    "'RESPONSE_POLICE_STATE',\n",
    "'RESPONSE_TXDOT',\n",
    "'RESPONSE_WRECKER']]"
   ]
  },
  {
   "cell_type": "code",
   "execution_count": null,
   "metadata": {},
   "outputs": [],
   "source": [
    "df4.to_csv(\"Hurricane_Harvey_Incident_ResponseBy.csv\", index=True, header=True);"
   ]
  },
  {
   "cell_type": "code",
   "execution_count": null,
   "metadata": {},
   "outputs": [],
   "source": [
    "df5 = data[['TXDOT_LANES_AFFECTED',\n",
    "'MAINLANES_BLOCKED',\n",
    "'FRONTAGE_LANES_BLOCKED',\n",
    "'RAMP_LANES_BLOCKED',\n",
    "'HOV_LANES_BLOCKED',\n",
    "'SHOULDER_LANES_BLOCKED']]"
   ]
  },
  {
   "cell_type": "code",
   "execution_count": null,
   "metadata": {},
   "outputs": [],
   "source": [
    "df5.to_csv(\"Hurricane_Harvey_Incident_Lanes.csv\", index=True, header=True);"
   ]
  },
  {
   "cell_type": "code",
   "execution_count": null,
   "metadata": {},
   "outputs": [],
   "source": [
    "df6 = data[['ROADWAY_NAME',\n",
    "'TXDOT_ROADWAY_DIRECTION',\n",
    "'TXDOT_CROSS_STREET_QUAL',\n",
    "'CROSS_STREET_NAME',\n",
    "'LATITUDE_IB_CW',\n",
    "'LATITUDE_OB_CCW',\n",
    "'LONGITUDE_IB_CW',\n",
    "'LONGITUDE_OB_CCW',\n",
    "'COUNTY_NAME']]"
   ]
  },
  {
   "cell_type": "code",
   "execution_count": null,
   "metadata": {},
   "outputs": [],
   "source": [
    "df6.to_csv(\"Hurricane_Harvey_MapData.csv\", index=True, header=True)"
   ]
  },
  {
   "cell_type": "code",
   "execution_count": null,
   "metadata": {},
   "outputs": [],
   "source": [
    "df7=data[['TXDOT_INCIDENT_ID',\n",
    "'TXDOT_INCIDENT_STATUS',\n",
    "'MAP_DISPATCHED',\n",
    "'DETECTED_BY',\n",
    "'VISIBILITY']]"
   ]
  },
  {
   "cell_type": "code",
   "execution_count": null,
   "metadata": {},
   "outputs": [],
   "source": [
    "df7.to_csv(\"Hurricane_Harvey_Incident_Info.csv\", index=True, header=True);"
   ]
  },
  {
   "cell_type": "code",
   "execution_count": null,
   "metadata": {},
   "outputs": [],
   "source": []
  }
 ],
 "metadata": {
  "kernelspec": {
   "display_name": "Python 3",
   "language": "python",
   "name": "python3"
  },
  "language_info": {
   "codemirror_mode": {
    "name": "ipython",
    "version": 3
   },
   "file_extension": ".py",
   "mimetype": "text/x-python",
   "name": "python",
   "nbconvert_exporter": "python",
   "pygments_lexer": "ipython3",
   "version": "3.7.3"
  }
 },
 "nbformat": 4,
 "nbformat_minor": 2
}
